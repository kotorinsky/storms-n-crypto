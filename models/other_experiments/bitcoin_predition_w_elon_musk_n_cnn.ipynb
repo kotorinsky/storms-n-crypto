{
 "cells": [
  {
   "cell_type": "markdown",
   "metadata": {},
   "source": [
    "# Bitcoin Price Trend Prediction with CNN (Elon Musk Tweets)"
   ]
  },
  {
   "cell_type": "markdown",
   "metadata": {},
   "source": [
    "Previous dataset quality has impacted the performance of models, and we decide to experiment with the tweets from renowned people in the industry. And we managed to collect the data for Elon Musk's tweets."
   ]
  },
  {
   "cell_type": "markdown",
   "metadata": {},
   "source": [
    "## Setup"
   ]
  },
  {
   "cell_type": "code",
   "execution_count": 18,
   "metadata": {},
   "outputs": [],
   "source": [
    "import emoji\n",
    "import numpy as np\n",
    "import pandas as pd\n",
    "import re\n",
    "import seaborn as sn\n",
    "import torch\n",
    "import torchtext\n",
    "import torch.autograd as autograd\n",
    "import torch.nn.functional as F\n",
    "import torch.nn as nn\n",
    "import torch.optim as optim\n",
    "import torchtext\n",
    "\n",
    "from sklearn import metrics\n",
    "from torch.utils.data import DataLoader\n",
    "from torchmetrics import ConfusionMatrix"
   ]
  },
  {
   "cell_type": "code",
   "execution_count": 2,
   "metadata": {},
   "outputs": [],
   "source": [
    "import matplotlib.pyplot as plt\n",
    "%matplotlib inline"
   ]
  },
  {
   "cell_type": "code",
   "execution_count": 3,
   "metadata": {},
   "outputs": [],
   "source": [
    "import preprocessor as tp"
   ]
  },
  {
   "cell_type": "code",
   "execution_count": 4,
   "metadata": {},
   "outputs": [
    {
     "name": "stderr",
     "output_type": "stream",
     "text": [
      "[nltk_data] Downloading package wordnet to\n",
      "[nltk_data]     /Users/yljasmine/nltk_data...\n",
      "[nltk_data]   Package wordnet is already up-to-date!\n",
      "[nltk_data] Downloading package stopwords to\n",
      "[nltk_data]     /Users/yljasmine/nltk_data...\n",
      "[nltk_data]   Package stopwords is already up-to-date!\n",
      "[nltk_data] Downloading package omw-1.4 to\n",
      "[nltk_data]     /Users/yljasmine/nltk_data...\n",
      "[nltk_data]   Package omw-1.4 is already up-to-date!\n"
     ]
    }
   ],
   "source": [
    "import nltk\n",
    "from nltk import word_tokenize, FreqDist\n",
    "from nltk.corpus import stopwords\n",
    "from nltk.stem import WordNetLemmatizer\n",
    "nltk.download\n",
    "nltk.download('wordnet')\n",
    "nltk.download('stopwords')\n",
    "nltk.download('omw-1.4')\n",
    "from nltk.tokenize import TweetTokenizer"
   ]
  },
  {
   "cell_type": "code",
   "execution_count": 5,
   "metadata": {},
   "outputs": [],
   "source": [
    "from sklearn.feature_extraction.text import CountVectorizer\n",
    "from sklearn.model_selection import train_test_split\n",
    "from sklearn.preprocessing import LabelEncoder\n",
    "from sklearn.metrics import f1_score\n",
    "from collections import Counter, OrderedDict"
   ]
  },
  {
   "cell_type": "markdown",
   "metadata": {},
   "source": [
    "## Preprocess"
   ]
  },
  {
   "cell_type": "code",
   "execution_count": 6,
   "metadata": {},
   "outputs": [],
   "source": [
    "df = pd.read_csv('../../data/elon-tweets-with-price.csv')"
   ]
  },
  {
   "cell_type": "code",
   "execution_count": 7,
   "metadata": {},
   "outputs": [
    {
     "data": {
      "text/html": [
       "<div>\n",
       "<style scoped>\n",
       "    .dataframe tbody tr th:only-of-type {\n",
       "        vertical-align: middle;\n",
       "    }\n",
       "\n",
       "    .dataframe tbody tr th {\n",
       "        vertical-align: top;\n",
       "    }\n",
       "\n",
       "    .dataframe thead th {\n",
       "        text-align: right;\n",
       "    }\n",
       "</style>\n",
       "<table border=\"1\" class=\"dataframe\">\n",
       "  <thead>\n",
       "    <tr style=\"text-align: right;\">\n",
       "      <th></th>\n",
       "      <th>Tweet</th>\n",
       "      <th>UserScreenName</th>\n",
       "      <th>UserName</th>\n",
       "      <th>Timestamp</th>\n",
       "      <th>text</th>\n",
       "      <th>Emojis</th>\n",
       "      <th>Comments</th>\n",
       "      <th>Likes</th>\n",
       "      <th>Retweets</th>\n",
       "      <th>Image link</th>\n",
       "      <th>Tweet URL</th>\n",
       "      <th>next_15min_prices</th>\n",
       "    </tr>\n",
       "  </thead>\n",
       "  <tbody>\n",
       "    <tr>\n",
       "      <th>0</th>\n",
       "      <td>6745</td>\n",
       "      <td>Elon Musk</td>\n",
       "      <td>@elonmusk</td>\n",
       "      <td>2019-12-01T08:48:16.000Z</td>\n",
       "      <td>Do you like our owl?\\n12.3K\\n23.2K\\n381K</td>\n",
       "      <td>NaN</td>\n",
       "      <td>12.3K</td>\n",
       "      <td>23.2K</td>\n",
       "      <td>381K</td>\n",
       "      <td>['https://pbs.twimg.com/media/EKsGGK2VAAEebP7?...</td>\n",
       "      <td>https://twitter.com/elonmusk/status/1201060433...</td>\n",
       "      <td>[7295.18, 7302.52, 7293.29, 7288.96, 7290.42, ...</td>\n",
       "    </tr>\n",
       "    <tr>\n",
       "      <th>1</th>\n",
       "      <td>6746</td>\n",
       "      <td>Elon Musk</td>\n",
       "      <td>@elonmusk</td>\n",
       "      <td>2019-12-02T23:18:08.000Z</td>\n",
       "      <td>People often think they’re breathing oxygen, b...</td>\n",
       "      <td>NaN</td>\n",
       "      <td>6,946</td>\n",
       "      <td>42.3K</td>\n",
       "      <td>310.6K</td>\n",
       "      <td>[]</td>\n",
       "      <td>https://twitter.com/elonmusk/status/1201641730...</td>\n",
       "      <td>[7303.8, 7305.86, 7309.29, 7307.96, 7304.52, 7...</td>\n",
       "    </tr>\n",
       "    <tr>\n",
       "      <th>2</th>\n",
       "      <td>6747</td>\n",
       "      <td>Elon Musk</td>\n",
       "      <td>@elonmusk</td>\n",
       "      <td>2019-12-02T20:45:14.000Z</td>\n",
       "      <td>Hydrogen is a light, odorless gas, which, give...</td>\n",
       "      <td>NaN</td>\n",
       "      <td>2,580</td>\n",
       "      <td>12.3K</td>\n",
       "      <td>164.3K</td>\n",
       "      <td>[]</td>\n",
       "      <td>https://twitter.com/elonmusk/status/1201603251...</td>\n",
       "      <td>[7309.0, 7303.1, 7303.06, 7301.56, 7298.67, 72...</td>\n",
       "    </tr>\n",
       "    <tr>\n",
       "      <th>3</th>\n",
       "      <td>6748</td>\n",
       "      <td>Elon Musk</td>\n",
       "      <td>@elonmusk</td>\n",
       "      <td>2019-12-01T09:05:11.000Z</td>\n",
       "      <td>It’s artificial\\n3,116\\n2,551\\n107K</td>\n",
       "      <td>NaN</td>\n",
       "      <td>3,116</td>\n",
       "      <td>2,551</td>\n",
       "      <td>107K</td>\n",
       "      <td>[]</td>\n",
       "      <td>https://twitter.com/elonmusk/status/1201064688...</td>\n",
       "      <td>[7302.47, 7291.24, 7300.91, 7295.35, 7294.61, ...</td>\n",
       "    </tr>\n",
       "    <tr>\n",
       "      <th>4</th>\n",
       "      <td>6749</td>\n",
       "      <td>Elon Musk</td>\n",
       "      <td>@elonmusk</td>\n",
       "      <td>2019-12-04T02:45:24.000Z</td>\n",
       "      <td>Launching third flight of this Dragon spacecra...</td>\n",
       "      <td>NaN</td>\n",
       "      <td>645</td>\n",
       "      <td>2,042</td>\n",
       "      <td>31K</td>\n",
       "      <td>['https://pbs.twimg.com/profile_images/1082744...</td>\n",
       "      <td>https://twitter.com/elonmusk/status/1202056276...</td>\n",
       "      <td>[7134.75, 7131.65, 7132.83, 7134.59, 7138.02, ...</td>\n",
       "    </tr>\n",
       "  </tbody>\n",
       "</table>\n",
       "</div>"
      ],
      "text/plain": [
       "   Tweet UserScreenName   UserName                 Timestamp  \\\n",
       "0   6745      Elon Musk  @elonmusk  2019-12-01T08:48:16.000Z   \n",
       "1   6746      Elon Musk  @elonmusk  2019-12-02T23:18:08.000Z   \n",
       "2   6747      Elon Musk  @elonmusk  2019-12-02T20:45:14.000Z   \n",
       "3   6748      Elon Musk  @elonmusk  2019-12-01T09:05:11.000Z   \n",
       "4   6749      Elon Musk  @elonmusk  2019-12-04T02:45:24.000Z   \n",
       "\n",
       "                                                text Emojis Comments  Likes  \\\n",
       "0           Do you like our owl?\\n12.3K\\n23.2K\\n381K    NaN    12.3K  23.2K   \n",
       "1  People often think they’re breathing oxygen, b...    NaN    6,946  42.3K   \n",
       "2  Hydrogen is a light, odorless gas, which, give...    NaN    2,580  12.3K   \n",
       "3                It’s artificial\\n3,116\\n2,551\\n107K    NaN    3,116  2,551   \n",
       "4  Launching third flight of this Dragon spacecra...    NaN      645  2,042   \n",
       "\n",
       "  Retweets                                         Image link  \\\n",
       "0     381K  ['https://pbs.twimg.com/media/EKsGGK2VAAEebP7?...   \n",
       "1   310.6K                                                 []   \n",
       "2   164.3K                                                 []   \n",
       "3     107K                                                 []   \n",
       "4      31K  ['https://pbs.twimg.com/profile_images/1082744...   \n",
       "\n",
       "                                           Tweet URL  \\\n",
       "0  https://twitter.com/elonmusk/status/1201060433...   \n",
       "1  https://twitter.com/elonmusk/status/1201641730...   \n",
       "2  https://twitter.com/elonmusk/status/1201603251...   \n",
       "3  https://twitter.com/elonmusk/status/1201064688...   \n",
       "4  https://twitter.com/elonmusk/status/1202056276...   \n",
       "\n",
       "                                   next_15min_prices  \n",
       "0  [7295.18, 7302.52, 7293.29, 7288.96, 7290.42, ...  \n",
       "1  [7303.8, 7305.86, 7309.29, 7307.96, 7304.52, 7...  \n",
       "2  [7309.0, 7303.1, 7303.06, 7301.56, 7298.67, 72...  \n",
       "3  [7302.47, 7291.24, 7300.91, 7295.35, 7294.61, ...  \n",
       "4  [7134.75, 7131.65, 7132.83, 7134.59, 7138.02, ...  "
      ]
     },
     "execution_count": 7,
     "metadata": {},
     "output_type": "execute_result"
    }
   ],
   "source": [
    "df.head()"
   ]
  },
  {
   "cell_type": "markdown",
   "metadata": {},
   "source": [
    "### Clean data"
   ]
  },
  {
   "cell_type": "markdown",
   "metadata": {},
   "source": [
    "Remove useless features."
   ]
  },
  {
   "cell_type": "code",
   "execution_count": 8,
   "metadata": {},
   "outputs": [],
   "source": [
    "df_pre = df.drop(['Tweet', 'UserScreenName', 'UserName', 'Timestamp', 'Image link', 'Tweet URL'], axis=1)"
   ]
  },
  {
   "cell_type": "code",
   "execution_count": 9,
   "metadata": {},
   "outputs": [
    {
     "data": {
      "text/html": [
       "<div>\n",
       "<style scoped>\n",
       "    .dataframe tbody tr th:only-of-type {\n",
       "        vertical-align: middle;\n",
       "    }\n",
       "\n",
       "    .dataframe tbody tr th {\n",
       "        vertical-align: top;\n",
       "    }\n",
       "\n",
       "    .dataframe thead th {\n",
       "        text-align: right;\n",
       "    }\n",
       "</style>\n",
       "<table border=\"1\" class=\"dataframe\">\n",
       "  <thead>\n",
       "    <tr style=\"text-align: right;\">\n",
       "      <th></th>\n",
       "      <th>text</th>\n",
       "      <th>Emojis</th>\n",
       "      <th>Comments</th>\n",
       "      <th>Likes</th>\n",
       "      <th>Retweets</th>\n",
       "      <th>next_15min_prices</th>\n",
       "    </tr>\n",
       "  </thead>\n",
       "  <tbody>\n",
       "    <tr>\n",
       "      <th>0</th>\n",
       "      <td>Do you like our owl?\\n12.3K\\n23.2K\\n381K</td>\n",
       "      <td>NaN</td>\n",
       "      <td>12.3K</td>\n",
       "      <td>23.2K</td>\n",
       "      <td>381K</td>\n",
       "      <td>[7295.18, 7302.52, 7293.29, 7288.96, 7290.42, ...</td>\n",
       "    </tr>\n",
       "    <tr>\n",
       "      <th>1</th>\n",
       "      <td>People often think they’re breathing oxygen, b...</td>\n",
       "      <td>NaN</td>\n",
       "      <td>6,946</td>\n",
       "      <td>42.3K</td>\n",
       "      <td>310.6K</td>\n",
       "      <td>[7303.8, 7305.86, 7309.29, 7307.96, 7304.52, 7...</td>\n",
       "    </tr>\n",
       "    <tr>\n",
       "      <th>2</th>\n",
       "      <td>Hydrogen is a light, odorless gas, which, give...</td>\n",
       "      <td>NaN</td>\n",
       "      <td>2,580</td>\n",
       "      <td>12.3K</td>\n",
       "      <td>164.3K</td>\n",
       "      <td>[7309.0, 7303.1, 7303.06, 7301.56, 7298.67, 72...</td>\n",
       "    </tr>\n",
       "    <tr>\n",
       "      <th>3</th>\n",
       "      <td>It’s artificial\\n3,116\\n2,551\\n107K</td>\n",
       "      <td>NaN</td>\n",
       "      <td>3,116</td>\n",
       "      <td>2,551</td>\n",
       "      <td>107K</td>\n",
       "      <td>[7302.47, 7291.24, 7300.91, 7295.35, 7294.61, ...</td>\n",
       "    </tr>\n",
       "    <tr>\n",
       "      <th>4</th>\n",
       "      <td>Launching third flight of this Dragon spacecra...</td>\n",
       "      <td>NaN</td>\n",
       "      <td>645</td>\n",
       "      <td>2,042</td>\n",
       "      <td>31K</td>\n",
       "      <td>[7134.75, 7131.65, 7132.83, 7134.59, 7138.02, ...</td>\n",
       "    </tr>\n",
       "  </tbody>\n",
       "</table>\n",
       "</div>"
      ],
      "text/plain": [
       "                                                text Emojis Comments  Likes  \\\n",
       "0           Do you like our owl?\\n12.3K\\n23.2K\\n381K    NaN    12.3K  23.2K   \n",
       "1  People often think they’re breathing oxygen, b...    NaN    6,946  42.3K   \n",
       "2  Hydrogen is a light, odorless gas, which, give...    NaN    2,580  12.3K   \n",
       "3                It’s artificial\\n3,116\\n2,551\\n107K    NaN    3,116  2,551   \n",
       "4  Launching third flight of this Dragon spacecra...    NaN      645  2,042   \n",
       "\n",
       "  Retweets                                  next_15min_prices  \n",
       "0     381K  [7295.18, 7302.52, 7293.29, 7288.96, 7290.42, ...  \n",
       "1   310.6K  [7303.8, 7305.86, 7309.29, 7307.96, 7304.52, 7...  \n",
       "2   164.3K  [7309.0, 7303.1, 7303.06, 7301.56, 7298.67, 72...  \n",
       "3     107K  [7302.47, 7291.24, 7300.91, 7295.35, 7294.61, ...  \n",
       "4      31K  [7134.75, 7131.65, 7132.83, 7134.59, 7138.02, ...  "
      ]
     },
     "execution_count": 9,
     "metadata": {},
     "output_type": "execute_result"
    }
   ],
   "source": [
    "df_pre.head()"
   ]
  },
  {
   "cell_type": "markdown",
   "metadata": {},
   "source": [
    "### Emojis"
   ]
  },
  {
   "cell_type": "markdown",
   "metadata": {},
   "source": [
    "Convert emoji to text."
   ]
  },
  {
   "cell_type": "code",
   "execution_count": 35,
   "metadata": {},
   "outputs": [],
   "source": [
    "def replace_emoji(row):\n",
    "    if pd.isna(row['Emojis']):\n",
    "        return \"\"\n",
    "    else:\n",
    "        return emoji.demojize(row['Emojis'], delimiters=(\"\", \"\")).replace('_', ' ')"
   ]
  },
  {
   "cell_type": "code",
   "execution_count": 36,
   "metadata": {},
   "outputs": [],
   "source": [
    "df_pre['emoji_text'] = df_pre.apply(replace_emoji, axis=1)"
   ]
  },
  {
   "cell_type": "code",
   "execution_count": 37,
   "metadata": {},
   "outputs": [
    {
     "data": {
      "text/plain": [
       "                                                               4929\n",
       "rolling on the floor laughing rolling on the floor laughing     140\n",
       "rolling on the floor laughing                                    73\n",
       "hundred points                                                   25\n",
       "fire fire                                                        20\n",
       "                                                               ... \n",
       "cat                                                               1\n",
       "ship rocket                                                       1\n",
       "rocket heart suit                                                 1\n",
       "rolling on the floor laughing two hearts                          1\n",
       "collision                                                         1\n",
       "Name: emoji_text, Length: 144, dtype: int64"
      ]
     },
     "execution_count": 37,
     "metadata": {},
     "output_type": "execute_result"
    }
   ],
   "source": [
    "df_pre['emoji_text'].value_counts()"
   ]
  },
  {
   "cell_type": "code",
   "execution_count": 30,
   "metadata": {},
   "outputs": [
    {
     "name": "stdout",
     "output_type": "stream",
     "text": [
      "122\n"
     ]
    }
   ],
   "source": [
    "emoji_counter = Counter()\n",
    "for emojis in df_pre[\"emoji_text\"]:\n",
    "    for e in emojis:\n",
    "        emoji_counter[e] += 1\n",
    "emoji_set = sorted(emoji_counter.items(), key=lambda x: x[1], reverse=True)\n",
    "print(len(emoji_set))"
   ]
  },
  {
   "cell_type": "markdown",
   "metadata": {},
   "source": [
    "### Preprocess tweet"
   ]
  },
  {
   "cell_type": "markdown",
   "metadata": {},
   "source": [
    "1. Use Twitter-Processor to clean the tweet, including URL/mention/hashtag removing."
   ]
  },
  {
   "cell_type": "code",
   "execution_count": 38,
   "metadata": {},
   "outputs": [],
   "source": [
    "def preprocess_tweet(text):\n",
    "    text = tp.clean(text)\n",
    "    return text"
   ]
  },
  {
   "cell_type": "code",
   "execution_count": 44,
   "metadata": {},
   "outputs": [],
   "source": [
    "df_pre['clean_text'] = df_pre['text'].apply(preprocess_tweet)"
   ]
  },
  {
   "cell_type": "code",
   "execution_count": 50,
   "metadata": {},
   "outputs": [
    {
     "data": {
      "text/html": [
       "<div>\n",
       "<style scoped>\n",
       "    .dataframe tbody tr th:only-of-type {\n",
       "        vertical-align: middle;\n",
       "    }\n",
       "\n",
       "    .dataframe tbody tr th {\n",
       "        vertical-align: top;\n",
       "    }\n",
       "\n",
       "    .dataframe thead th {\n",
       "        text-align: right;\n",
       "    }\n",
       "</style>\n",
       "<table border=\"1\" class=\"dataframe\">\n",
       "  <thead>\n",
       "    <tr style=\"text-align: right;\">\n",
       "      <th></th>\n",
       "      <th>text</th>\n",
       "      <th>clean_text</th>\n",
       "    </tr>\n",
       "  </thead>\n",
       "  <tbody>\n",
       "    <tr>\n",
       "      <th>0</th>\n",
       "      <td>Do you like our owl?\\n12.3K\\n23.2K\\n381K</td>\n",
       "      <td>do you like our owl</td>\n",
       "    </tr>\n",
       "    <tr>\n",
       "      <th>1</th>\n",
       "      <td>People often think they’re breathing oxygen, b...</td>\n",
       "      <td>people often think theyre breathing oxygen but...</td>\n",
       "    </tr>\n",
       "    <tr>\n",
       "      <th>2</th>\n",
       "      <td>Hydrogen is a light, odorless gas, which, give...</td>\n",
       "      <td>hydrogen is a light odorless gas which given e...</td>\n",
       "    </tr>\n",
       "    <tr>\n",
       "      <th>3</th>\n",
       "      <td>It’s artificial\\n3,116\\n2,551\\n107K</td>\n",
       "      <td>its artificial</td>\n",
       "    </tr>\n",
       "    <tr>\n",
       "      <th>4</th>\n",
       "      <td>Launching third flight of this Dragon spacecra...</td>\n",
       "      <td>launching third flight of this dragon spacecra...</td>\n",
       "    </tr>\n",
       "  </tbody>\n",
       "</table>\n",
       "</div>"
      ],
      "text/plain": [
       "                                                text  \\\n",
       "0           Do you like our owl?\\n12.3K\\n23.2K\\n381K   \n",
       "1  People often think they’re breathing oxygen, b...   \n",
       "2  Hydrogen is a light, odorless gas, which, give...   \n",
       "3                It’s artificial\\n3,116\\n2,551\\n107K   \n",
       "4  Launching third flight of this Dragon spacecra...   \n",
       "\n",
       "                                          clean_text  \n",
       "0                             do you like our owl     \n",
       "1  people often think theyre breathing oxygen but...  \n",
       "2  hydrogen is a light odorless gas which given e...  \n",
       "3                                   its artificial    \n",
       "4  launching third flight of this dragon spacecra...  "
      ]
     },
     "execution_count": 50,
     "metadata": {},
     "output_type": "execute_result"
    }
   ],
   "source": [
    "df_pre.loc[:,['text', 'clean_text']].head()\n"
   ]
  },
  {
   "cell_type": "markdown",
   "metadata": {},
   "source": [
    "2. Lowercase the text, remove punctuation, extra space and digits."
   ]
  },
  {
   "cell_type": "code",
   "execution_count": 45,
   "metadata": {},
   "outputs": [
    {
     "name": "stderr",
     "output_type": "stream",
     "text": [
      "/var/folders/dv/jgp81_zd7q112t2sf_4ppk5r0000gn/T/ipykernel_46237/2324435351.py:1: FutureWarning: The default value of regex will change from True to False in a future version.\n",
      "  df_pre['clean_text'] = df_pre['clean_text'].str.lower().str.replace('[^\\w\\s]',' ').str.replace('\\s\\s+', ' ').str.replace('\\d+[kK]*', '')\n"
     ]
    }
   ],
   "source": [
    "df_pre['clean_text'] = df_pre['clean_text'].str.lower().str.replace('[^\\w\\s]',' ').str.replace('\\s\\s+', ' ').str.replace('\\d+[kK]*', '')"
   ]
  },
  {
   "cell_type": "markdown",
   "metadata": {},
   "source": [
    "3. Append emoji text to tweet text."
   ]
  },
  {
   "cell_type": "code",
   "execution_count": 47,
   "metadata": {},
   "outputs": [],
   "source": [
    "def concatenate_text(row):\n",
    "    if len(row['emoji_text']) == 0:\n",
    "        return row['clean_text']\n",
    "    return row['clean_text'] + ' ' + row['emoji_text']"
   ]
  },
  {
   "cell_type": "code",
   "execution_count": 48,
   "metadata": {},
   "outputs": [],
   "source": [
    "df[\"clean_text\"] = df_pre.apply(concatenate_text, axis=1)"
   ]
  },
  {
   "cell_type": "markdown",
   "metadata": {},
   "source": [
    "4. Lemmatize and tokenize the text."
   ]
  },
  {
   "cell_type": "code",
   "execution_count": 51,
   "metadata": {},
   "outputs": [],
   "source": [
    "lemmatizer = nltk.stem.WordNetLemmatizer()\n",
    "w_tokenizer = TweetTokenizer()\n",
    "stop_words = set(stopwords.words('english'))"
   ]
  },
  {
   "cell_type": "code",
   "execution_count": 52,
   "metadata": {},
   "outputs": [],
   "source": [
    "def lemmatize_tweet(row):\n",
    "    text = row['clean_text']\n",
    "    return [(lemmatizer.lemmatize(w)) for w in \\\n",
    "                                     w_tokenizer.tokenize((text))]"
   ]
  },
  {
   "cell_type": "code",
   "execution_count": 53,
   "metadata": {},
   "outputs": [],
   "source": [
    "df_pre['clean_text'] = df_pre.apply(lemmatize_tweet, axis=1)"
   ]
  },
  {
   "cell_type": "code",
   "execution_count": 60,
   "metadata": {},
   "outputs": [
    {
     "data": {
      "text/html": [
       "<div>\n",
       "<style scoped>\n",
       "    .dataframe tbody tr th:only-of-type {\n",
       "        vertical-align: middle;\n",
       "    }\n",
       "\n",
       "    .dataframe tbody tr th {\n",
       "        vertical-align: top;\n",
       "    }\n",
       "\n",
       "    .dataframe thead th {\n",
       "        text-align: right;\n",
       "    }\n",
       "</style>\n",
       "<table border=\"1\" class=\"dataframe\">\n",
       "  <thead>\n",
       "    <tr style=\"text-align: right;\">\n",
       "      <th></th>\n",
       "      <th>text</th>\n",
       "      <th>clean_text</th>\n",
       "    </tr>\n",
       "  </thead>\n",
       "  <tbody>\n",
       "    <tr>\n",
       "      <th>0</th>\n",
       "      <td>Do you like our owl?\\n12.3K\\n23.2K\\n381K</td>\n",
       "      <td>[do, you, like, our, owl]</td>\n",
       "    </tr>\n",
       "    <tr>\n",
       "      <th>1</th>\n",
       "      <td>People often think they’re breathing oxygen, b...</td>\n",
       "      <td>[people, often, think, theyre, breathing, oxyg...</td>\n",
       "    </tr>\n",
       "    <tr>\n",
       "      <th>2</th>\n",
       "      <td>Hydrogen is a light, odorless gas, which, give...</td>\n",
       "      <td>[hydrogen, is, a, light, odorless, gas, which,...</td>\n",
       "    </tr>\n",
       "    <tr>\n",
       "      <th>3</th>\n",
       "      <td>It’s artificial\\n3,116\\n2,551\\n107K</td>\n",
       "      <td>[it, artificial]</td>\n",
       "    </tr>\n",
       "    <tr>\n",
       "      <th>4</th>\n",
       "      <td>Launching third flight of this Dragon spacecra...</td>\n",
       "      <td>[launching, third, flight, of, this, dragon, s...</td>\n",
       "    </tr>\n",
       "  </tbody>\n",
       "</table>\n",
       "</div>"
      ],
      "text/plain": [
       "                                                text  \\\n",
       "0           Do you like our owl?\\n12.3K\\n23.2K\\n381K   \n",
       "1  People often think they’re breathing oxygen, b...   \n",
       "2  Hydrogen is a light, odorless gas, which, give...   \n",
       "3                It’s artificial\\n3,116\\n2,551\\n107K   \n",
       "4  Launching third flight of this Dragon spacecra...   \n",
       "\n",
       "                                          clean_text  \n",
       "0                          [do, you, like, our, owl]  \n",
       "1  [people, often, think, theyre, breathing, oxyg...  \n",
       "2  [hydrogen, is, a, light, odorless, gas, which,...  \n",
       "3                                   [it, artificial]  \n",
       "4  [launching, third, flight, of, this, dragon, s...  "
      ]
     },
     "execution_count": 60,
     "metadata": {},
     "output_type": "execute_result"
    }
   ],
   "source": [
    "df_pre.loc[:,['text', 'clean_text']].head()"
   ]
  },
  {
   "cell_type": "markdown",
   "metadata": {},
   "source": [
    "### Label"
   ]
  },
  {
   "cell_type": "markdown",
   "metadata": {},
   "source": [
    "Define the label using bitcoin prices:\n",
    "* If the average price for next 15 minutes increases more than 1%, we consider the tweet will lead to an \"increase\" of price. \n",
    "* If the average price for next 15 minutes drops more than 1%, we consider the tweet will lead to the \"decrease\" of price. \n",
    "* Else, we consider the tweet has \"no change\" to the price."
   ]
  },
  {
   "cell_type": "code",
   "execution_count": null,
   "metadata": {},
   "outputs": [],
   "source": [
    "#df = pd.read_csv(\"preprocess.csv\")"
   ]
  },
  {
   "cell_type": "code",
   "execution_count": 55,
   "metadata": {},
   "outputs": [],
   "source": [
    "label_map = {\"no change\": 0, \"decrease\": 1, \"increase\": 2}"
   ]
  },
  {
   "cell_type": "code",
   "execution_count": 56,
   "metadata": {},
   "outputs": [],
   "source": [
    "def getLabel(row):\n",
    "    raw = row[\"next_15min_prices\"].split(',')\n",
    "    prices = [float(re.sub('[\\s\\[\\]]+','', w)) for w in raw]\n",
    "    #print(len(prices))\n",
    "    #print(prices)\n",
    "    mean = np.mean(prices[1:])\n",
    "    r = np.divide(mean - prices[0], prices[0]) * 100\n",
    "    if r > 1:\n",
    "        return 2\n",
    "    if r < -1:\n",
    "        return 1\n",
    "    return 0"
   ]
  },
  {
   "cell_type": "code",
   "execution_count": 57,
   "metadata": {},
   "outputs": [],
   "source": [
    "df_pre[\"label\"] = df_pre.apply(getLabel, axis=1)"
   ]
  },
  {
   "cell_type": "code",
   "execution_count": 58,
   "metadata": {},
   "outputs": [
    {
     "data": {
      "text/plain": [
       "0    5418\n",
       "2      26\n",
       "1      15\n",
       "Name: label, dtype: int64"
      ]
     },
     "execution_count": 58,
     "metadata": {},
     "output_type": "execute_result"
    }
   ],
   "source": [
    "df_pre[\"label\"].value_counts()"
   ]
  },
  {
   "cell_type": "code",
   "execution_count": null,
   "metadata": {},
   "outputs": [],
   "source": [
    "df_ready = df_pre.drop(['next_15min_prices'], axis=1)"
   ]
  },
  {
   "cell_type": "code",
   "execution_count": 59,
   "metadata": {},
   "outputs": [
    {
     "data": {
      "text/html": [
       "<div>\n",
       "<style scoped>\n",
       "    .dataframe tbody tr th:only-of-type {\n",
       "        vertical-align: middle;\n",
       "    }\n",
       "\n",
       "    .dataframe tbody tr th {\n",
       "        vertical-align: top;\n",
       "    }\n",
       "\n",
       "    .dataframe thead th {\n",
       "        text-align: right;\n",
       "    }\n",
       "</style>\n",
       "<table border=\"1\" class=\"dataframe\">\n",
       "  <thead>\n",
       "    <tr style=\"text-align: right;\">\n",
       "      <th></th>\n",
       "      <th>text</th>\n",
       "      <th>Emojis</th>\n",
       "      <th>Comments</th>\n",
       "      <th>Likes</th>\n",
       "      <th>Retweets</th>\n",
       "      <th>next_15min_prices</th>\n",
       "      <th>emoji_text</th>\n",
       "      <th>clean_text</th>\n",
       "      <th>label</th>\n",
       "    </tr>\n",
       "  </thead>\n",
       "  <tbody>\n",
       "    <tr>\n",
       "      <th>0</th>\n",
       "      <td>Do you like our owl?\\n12.3K\\n23.2K\\n381K</td>\n",
       "      <td>NaN</td>\n",
       "      <td>12.3K</td>\n",
       "      <td>23.2K</td>\n",
       "      <td>381K</td>\n",
       "      <td>[7295.18, 7302.52, 7293.29, 7288.96, 7290.42, ...</td>\n",
       "      <td></td>\n",
       "      <td>[do, you, like, our, owl]</td>\n",
       "      <td>0</td>\n",
       "    </tr>\n",
       "    <tr>\n",
       "      <th>1</th>\n",
       "      <td>People often think they’re breathing oxygen, b...</td>\n",
       "      <td>NaN</td>\n",
       "      <td>6,946</td>\n",
       "      <td>42.3K</td>\n",
       "      <td>310.6K</td>\n",
       "      <td>[7303.8, 7305.86, 7309.29, 7307.96, 7304.52, 7...</td>\n",
       "      <td></td>\n",
       "      <td>[people, often, think, theyre, breathing, oxyg...</td>\n",
       "      <td>0</td>\n",
       "    </tr>\n",
       "    <tr>\n",
       "      <th>2</th>\n",
       "      <td>Hydrogen is a light, odorless gas, which, give...</td>\n",
       "      <td>NaN</td>\n",
       "      <td>2,580</td>\n",
       "      <td>12.3K</td>\n",
       "      <td>164.3K</td>\n",
       "      <td>[7309.0, 7303.1, 7303.06, 7301.56, 7298.67, 72...</td>\n",
       "      <td></td>\n",
       "      <td>[hydrogen, is, a, light, odorless, gas, which,...</td>\n",
       "      <td>0</td>\n",
       "    </tr>\n",
       "    <tr>\n",
       "      <th>3</th>\n",
       "      <td>It’s artificial\\n3,116\\n2,551\\n107K</td>\n",
       "      <td>NaN</td>\n",
       "      <td>3,116</td>\n",
       "      <td>2,551</td>\n",
       "      <td>107K</td>\n",
       "      <td>[7302.47, 7291.24, 7300.91, 7295.35, 7294.61, ...</td>\n",
       "      <td></td>\n",
       "      <td>[it, artificial]</td>\n",
       "      <td>0</td>\n",
       "    </tr>\n",
       "    <tr>\n",
       "      <th>4</th>\n",
       "      <td>Launching third flight of this Dragon spacecra...</td>\n",
       "      <td>NaN</td>\n",
       "      <td>645</td>\n",
       "      <td>2,042</td>\n",
       "      <td>31K</td>\n",
       "      <td>[7134.75, 7131.65, 7132.83, 7134.59, 7138.02, ...</td>\n",
       "      <td></td>\n",
       "      <td>[launching, third, flight, of, this, dragon, s...</td>\n",
       "      <td>0</td>\n",
       "    </tr>\n",
       "  </tbody>\n",
       "</table>\n",
       "</div>"
      ],
      "text/plain": [
       "                                                text Emojis Comments  Likes  \\\n",
       "0           Do you like our owl?\\n12.3K\\n23.2K\\n381K    NaN    12.3K  23.2K   \n",
       "1  People often think they’re breathing oxygen, b...    NaN    6,946  42.3K   \n",
       "2  Hydrogen is a light, odorless gas, which, give...    NaN    2,580  12.3K   \n",
       "3                It’s artificial\\n3,116\\n2,551\\n107K    NaN    3,116  2,551   \n",
       "4  Launching third flight of this Dragon spacecra...    NaN      645  2,042   \n",
       "\n",
       "  Retweets                                  next_15min_prices emoji_text  \\\n",
       "0     381K  [7295.18, 7302.52, 7293.29, 7288.96, 7290.42, ...              \n",
       "1   310.6K  [7303.8, 7305.86, 7309.29, 7307.96, 7304.52, 7...              \n",
       "2   164.3K  [7309.0, 7303.1, 7303.06, 7301.56, 7298.67, 72...              \n",
       "3     107K  [7302.47, 7291.24, 7300.91, 7295.35, 7294.61, ...              \n",
       "4      31K  [7134.75, 7131.65, 7132.83, 7134.59, 7138.02, ...              \n",
       "\n",
       "                                          clean_text  label  \n",
       "0                          [do, you, like, our, owl]      0  \n",
       "1  [people, often, think, theyre, breathing, oxyg...      0  \n",
       "2  [hydrogen, is, a, light, odorless, gas, which,...      0  \n",
       "3                                   [it, artificial]      0  \n",
       "4  [launching, third, flight, of, this, dragon, s...      0  "
      ]
     },
     "execution_count": 59,
     "metadata": {},
     "output_type": "execute_result"
    }
   ],
   "source": [
    "df_pre.head()"
   ]
  },
  {
   "cell_type": "markdown",
   "metadata": {},
   "source": [
    "### Create vocabulary"
   ]
  },
  {
   "cell_type": "markdown",
   "metadata": {},
   "source": [
    "Create vocabulary based on cleaned text. "
   ]
  },
  {
   "cell_type": "code",
   "execution_count": 61,
   "metadata": {},
   "outputs": [
    {
     "name": "stdout",
     "output_type": "stream",
     "text": [
      "7347\n"
     ]
    }
   ],
   "source": [
    "text_counter = Counter()\n",
    "for text in df_pre[\"clean_text\"]:\n",
    "    for w in text:\n",
    "        text_counter[w] += 1\n",
    "text_counter['<unk>'] = 1\n",
    "text_counter_sorted = sorted(text_counter.items(), key=lambda x: x[1], reverse=True)\n",
    "print(len(text_counter.items()))"
   ]
  },
  {
   "cell_type": "code",
   "execution_count": 62,
   "metadata": {},
   "outputs": [
    {
     "name": "stdout",
     "output_type": "stream",
     "text": [
      "Number of tokens: 7347\n"
     ]
    }
   ],
   "source": [
    "token_ordered_dict = OrderedDict(text_counter_sorted)\n",
    "\n",
    "vocabulary = torchtext.vocab.Vocab(token_ordered_dict, specials=['<unk>'], specials_first=True)\n",
    "#vocabulary.set_default_index(vocabulary['<unk>'])\n",
    "\n",
    "print(\"Number of tokens: {}\".format(len(vocabulary)))"
   ]
  },
  {
   "cell_type": "markdown",
   "metadata": {},
   "source": [
    "### Numericalization"
   ]
  },
  {
   "cell_type": "markdown",
   "metadata": {},
   "source": [
    "Convert text tokens to indices, add padding to provide a constant length for all according to the maximum length."
   ]
  },
  {
   "cell_type": "code",
   "execution_count": 63,
   "metadata": {},
   "outputs": [],
   "source": [
    "def sequence(tokens):\n",
    "    return [vocabulary.__getitem__(t) for t in tokens]"
   ]
  },
  {
   "cell_type": "code",
   "execution_count": 64,
   "metadata": {},
   "outputs": [],
   "source": [
    "df_pre['text_seq'] = df_pre['clean_text'].apply(sequence)"
   ]
  },
  {
   "cell_type": "code",
   "execution_count": 66,
   "metadata": {},
   "outputs": [],
   "source": [
    "df_pre = df_pre.drop(['Emojis','text','clean_text','next_15min_prices','emoji_text'], axis=1)"
   ]
  },
  {
   "cell_type": "code",
   "execution_count": 67,
   "metadata": {},
   "outputs": [
    {
     "data": {
      "text/html": [
       "<div>\n",
       "<style scoped>\n",
       "    .dataframe tbody tr th:only-of-type {\n",
       "        vertical-align: middle;\n",
       "    }\n",
       "\n",
       "    .dataframe tbody tr th {\n",
       "        vertical-align: top;\n",
       "    }\n",
       "\n",
       "    .dataframe thead th {\n",
       "        text-align: right;\n",
       "    }\n",
       "</style>\n",
       "<table border=\"1\" class=\"dataframe\">\n",
       "  <thead>\n",
       "    <tr style=\"text-align: right;\">\n",
       "      <th></th>\n",
       "      <th>Comments</th>\n",
       "      <th>Likes</th>\n",
       "      <th>Retweets</th>\n",
       "      <th>label</th>\n",
       "      <th>text_seq</th>\n",
       "    </tr>\n",
       "  </thead>\n",
       "  <tbody>\n",
       "    <tr>\n",
       "      <th>0</th>\n",
       "      <td>12.3K</td>\n",
       "      <td>23.2K</td>\n",
       "      <td>381K</td>\n",
       "      <td>0</td>\n",
       "      <td>[42, 26, 48, 54, 6061]</td>\n",
       "    </tr>\n",
       "    <tr>\n",
       "      <th>1</th>\n",
       "      <td>6,946</td>\n",
       "      <td>42.3K</td>\n",
       "      <td>310.6K</td>\n",
       "      <td>0</td>\n",
       "      <td>[67, 1095, 143, 461, 2786, 655, 16, 18, 163, 2...</td>\n",
       "    </tr>\n",
       "    <tr>\n",
       "      <th>2</th>\n",
       "      <td>2,580</td>\n",
       "      <td>12.3K</td>\n",
       "      <td>164.3K</td>\n",
       "      <td>0</td>\n",
       "      <td>[750, 6, 5, 356, 5840, 446, 71, 497, 220, 44, ...</td>\n",
       "    </tr>\n",
       "    <tr>\n",
       "      <th>3</th>\n",
       "      <td>3,116</td>\n",
       "      <td>2,551</td>\n",
       "      <td>107K</td>\n",
       "      <td>0</td>\n",
       "      <td>[10, 2124]</td>\n",
       "    </tr>\n",
       "    <tr>\n",
       "      <th>4</th>\n",
       "      <td>645</td>\n",
       "      <td>2,042</td>\n",
       "      <td>31K</td>\n",
       "      <td>0</td>\n",
       "      <td>[1200, 1708, 121, 7, 17, 194, 660, 1, 7033, 65...</td>\n",
       "    </tr>\n",
       "  </tbody>\n",
       "</table>\n",
       "</div>"
      ],
      "text/plain": [
       "  Comments  Likes Retweets  label  \\\n",
       "0    12.3K  23.2K     381K      0   \n",
       "1    6,946  42.3K   310.6K      0   \n",
       "2    2,580  12.3K   164.3K      0   \n",
       "3    3,116  2,551     107K      0   \n",
       "4      645  2,042      31K      0   \n",
       "\n",
       "                                            text_seq  \n",
       "0                             [42, 26, 48, 54, 6061]  \n",
       "1  [67, 1095, 143, 461, 2786, 655, 16, 18, 163, 2...  \n",
       "2  [750, 6, 5, 356, 5840, 446, 71, 497, 220, 44, ...  \n",
       "3                                         [10, 2124]  \n",
       "4  [1200, 1708, 121, 7, 17, 194, 660, 1, 7033, 65...  "
      ]
     },
     "execution_count": 67,
     "metadata": {},
     "output_type": "execute_result"
    }
   ],
   "source": [
    "df_pre.head()"
   ]
  },
  {
   "cell_type": "code",
   "execution_count": 68,
   "metadata": {},
   "outputs": [
    {
     "data": {
      "text/plain": [
       "78"
      ]
     },
     "execution_count": 68,
     "metadata": {},
     "output_type": "execute_result"
    }
   ],
   "source": [
    "len(max(df_pre['text_seq'], key=len))"
   ]
  },
  {
   "cell_type": "code",
   "execution_count": 81,
   "metadata": {},
   "outputs": [],
   "source": [
    "def padding(ls, min_len):\n",
    "    if len(ls) < min_len:\n",
    "        ls = ls + [0] * max(0, min_len - len(ls))\n",
    "    return ls"
   ]
  },
  {
   "cell_type": "code",
   "execution_count": 82,
   "metadata": {},
   "outputs": [],
   "source": [
    "df_pre['text_seq'] = df_pre['text_seq'].apply(lambda x: padding(x, 78))"
   ]
  },
  {
   "cell_type": "markdown",
   "metadata": {},
   "source": [
    "## Train"
   ]
  },
  {
   "cell_type": "code",
   "execution_count": 69,
   "metadata": {},
   "outputs": [
    {
     "data": {
      "text/plain": [
       "device(type='cpu')"
      ]
     },
     "execution_count": 69,
     "metadata": {},
     "output_type": "execute_result"
    }
   ],
   "source": [
    "if torch.cuda.is_available():\n",
    "    device = torch.device(\"cuda\") \n",
    "else:\n",
    "    device = torch.device(\"cpu\")\n",
    "device"
   ]
  },
  {
   "cell_type": "code",
   "execution_count": 91,
   "metadata": {},
   "outputs": [],
   "source": [
    "X = np.array([np.array(x) for x in df_pre['text_seq'].values])"
   ]
  },
  {
   "cell_type": "markdown",
   "metadata": {},
   "source": [
    "Split the data into train and test(validation) set."
   ]
  },
  {
   "cell_type": "code",
   "execution_count": 94,
   "metadata": {},
   "outputs": [],
   "source": [
    "x_train, x_test, y_train, y_test = train_test_split(X, df_pre['label'].values, test_size=0.2, shuffle=True, random_state=0)\n"
   ]
  },
  {
   "cell_type": "code",
   "execution_count": 96,
   "metadata": {},
   "outputs": [
    {
     "data": {
      "text/plain": [
       "(4367, 78)"
      ]
     },
     "execution_count": 96,
     "metadata": {},
     "output_type": "execute_result"
    }
   ],
   "source": [
    "x_train.shape"
   ]
  },
  {
   "cell_type": "code",
   "execution_count": 97,
   "metadata": {},
   "outputs": [],
   "source": [
    "train_loader = DataLoader(list(zip(x_train, y_train)), shuffle=False, batch_size=32)\n",
    "test_loader = DataLoader(list(zip(x_test, y_test)), shuffle=False, batch_size=32)"
   ]
  },
  {
   "cell_type": "markdown",
   "metadata": {},
   "source": [
    "Training and validation functions, with reference to notebooks in class."
   ]
  },
  {
   "cell_type": "code",
   "execution_count": 73,
   "metadata": {},
   "outputs": [],
   "source": [
    "def train_epoch(model, loader, optimizer, criterion):\n",
    "    \n",
    "    # Initialize epoch loss (cummulative loss fo all batchs)\n",
    "    epoch_loss = 0.0\n",
    "\n",
    "    for batch_idx, batch in enumerate(loader):\n",
    "            \n",
    "            # get the batch; batch is a list of [text, label]\n",
    "            X_batch, y_batch = batch   \n",
    "\n",
    "            log_probs = model(X_batch)        \n",
    "\n",
    "            # Calculate loss\n",
    "            loss = criterion(log_probs, y_batch)\n",
    "            \n",
    "            ### Pytorch magic! ###\n",
    "            optimizer.zero_grad()\n",
    "            loss.backward()\n",
    "            optimizer.step()\n",
    "\n",
    "            # Keep track of overall epoch loss\n",
    "            epoch_loss += loss.item()   \n",
    "            \n",
    "    return epoch_loss"
   ]
  },
  {
   "cell_type": "code",
   "execution_count": 74,
   "metadata": {},
   "outputs": [],
   "source": [
    "def plot_confusion_matrix(y_true, y_predict):\n",
    "    confmat = ConfusionMatrix(task='multiclass', num_classes=3).to(device)\n",
    "    matrix = confmat(np.array(y_true), np.array(y_predict)).cpu()\n",
    "\n",
    "    classes = [\"no change\", \"decrease\", \"increase\"]\n",
    "\n",
    "    df_cm = pd.DataFrame(matrix, index = [i for i in classes],\n",
    "                      columns = [i for i in classes])\n",
    "    df_cm = df_cm.astype(float)\n",
    "    plt.figure(figsize = (10,7))\n",
    "    sn.heatmap(df_cm, annot=True)\n",
    "    plt.xlabel('predictions', fontsize =14)\n",
    "    plt.ylabel('ground truth', fontsize =14)\n",
    "    "
   ]
  },
  {
   "cell_type": "code",
   "execution_count": 75,
   "metadata": {},
   "outputs": [],
   "source": [
    "def evaluate(model, loader, plot=False):\n",
    "    \n",
    "    y_true, y_pred = [], []\n",
    "    \n",
    "    for batch_idx, batch in enumerate(loader):\n",
    "            \n",
    "        # get the batch; batch is a list of [text, label]\n",
    "        X_batch, y_batch = batch\n",
    "            \n",
    "        log_probs = model(X_batch)                \n",
    "\n",
    "        y_batch_pred = torch.argmax(log_probs, dim=1)\n",
    "\n",
    "        y_true += list(y_batch.cpu())\n",
    "        y_pred += list(y_batch_pred.cpu())\n",
    "        \n",
    "    if plot:\n",
    "        confusion_matrix = metrics.confusion_matrix(y_true, y_pred)\n",
    "        cm_display = metrics.ConfusionMatrixDisplay(confusion_matrix = confusion_matrix,  display_labels = [\"no change\", \"decrease\", \"increase\"])\n",
    "        cm_display.plot()\n",
    "        plt.show()\n",
    "    return metrics.f1_score(y_true, y_pred, average='micro')"
   ]
  },
  {
   "cell_type": "code",
   "execution_count": 76,
   "metadata": {},
   "outputs": [],
   "source": [
    "def train(model, loader_train, loader_test, optimizer, criterion, num_epochs):\n",
    "    \n",
    "    results = []\n",
    "    \n",
    "    print(\"Total Training Time (total number of epochs: {})\".format(num_epochs))\n",
    "    #for epoch in tqdm(range(1, num_epochs+1)):\n",
    "    for epoch in range(1, num_epochs+1):        \n",
    "        model.train()\n",
    "        epoch_loss = train_epoch(model, loader_train, optimizer, criterion)\n",
    "        model.eval()\n",
    "        acc_train = evaluate(model, loader_train)\n",
    "        plot = False\n",
    "        if epoch == num_epochs:\n",
    "            plot = True\n",
    "        acc_test = evaluate(model, loader_test, plot)\n",
    "\n",
    "        results.append((epoch_loss, acc_train, acc_test))\n",
    "        \n",
    "        #if epoch % 10 == 0:\n",
    "        print(\"[Epoch {}] loss:\\t{:.3f}, f1 train: {:.3f}, f1 test: {:.3f} \".format(epoch, epoch_loss, acc_train, acc_test))\n",
    "            \n",
    "    return results"
   ]
  },
  {
   "cell_type": "markdown",
   "metadata": {},
   "source": [
    "Load pretrained embedding vectors \"English Wikipedia Dump of February 2017\", source http://vectors.nlpl.eu/repository/."
   ]
  },
  {
   "cell_type": "code",
   "execution_count": 77,
   "metadata": {},
   "outputs": [],
   "source": [
    "# embedding vectors file not included in the repo\n",
    "pretrained_vectors = torchtext.vocab.Vectors(\"5/model.txt\")\n",
    "pretrained_embedding = pretrained_vectors.get_vecs_by_tokens(vocabulary.itos)"
   ]
  },
  {
   "cell_type": "markdown",
   "metadata": {},
   "source": [
    "Define the model structure."
   ]
  },
  {
   "cell_type": "code",
   "execution_count": 101,
   "metadata": {},
   "outputs": [],
   "source": [
    "#Defining the convolutional neural network\n",
    "class CNN(nn.Module):\n",
    "            \n",
    "    def __init__(self, embedding_dim, hidden_size, vocab_size, output_size, feature_size, kernel_sizes=[3,4,5]):\n",
    "        super(CNN, self).__init__()\n",
    "        self.feature_size = feature_size\n",
    "        # 1. embedding layer\n",
    "        self.embedding = nn.Embedding(vocab_size, embedding_dim)\n",
    "        #self.embedding = nn.Embedding.from_pretrained(pretrained_embedding, freeze=True)\n",
    "        \n",
    "        # 2. convolutional layers\n",
    "        \n",
    "        self.conv1 = nn.ModuleList([\n",
    "            nn.Conv2d(1, hidden_size, (k, embedding_dim), padding=(k-2,0)) \n",
    "            for k in kernel_sizes])\n",
    "        #self.conv2 = nn.Conv1d(feature_size, hidden_size, kernel_size=2)\n",
    "        \n",
    "        # 3. final, fully-connected layer for classification\n",
    "        \n",
    "        self.fc = nn.Linear(len(kernel_sizes) * hidden_size, output_size) \n",
    "        \n",
    "        # 4. dropout and sigmoid layers\n",
    "        self.dropout = nn.Dropout(0.5)\n",
    "        self.relu = nn.ReLU()\n",
    "        self.sig = nn.Sigmoid()\n",
    "        \n",
    "    def conv_and_pool(self, x, conv):\n",
    "        # squeeze last dim to get size: (batch_size, num_filters, conv_seq_length)\n",
    "        # conv_seq_length will be ~ 200\n",
    "        x = self.relu(conv(x)).squeeze(3)\n",
    "        \n",
    "        # 1D pool over conv_seq_length\n",
    "        # squeeze to get size: (batch_size, num_filters)\n",
    "        x_max = F.max_pool1d(x, x.size(2)).squeeze(2)\n",
    "        return x_max\n",
    "\n",
    "    def forward(self, x):\n",
    "        embeds = self.embedding(x).unsqueeze(1)\n",
    "\n",
    "        x_conv = [self.conv_and_pool(embeds, conv) for conv in self.conv1]\n",
    "\n",
    "        x = torch.cat(x_conv, dim=1)\n",
    "        x = self.dropout(x)\n",
    "        output = self.fc(x) \n",
    "        return self.sig(output)"
   ]
  },
  {
   "cell_type": "code",
   "execution_count": 105,
   "metadata": {},
   "outputs": [
    {
     "data": {
      "text/plain": [
       "CNN(\n",
       "  (embedding): Embedding(7347, 300)\n",
       "  (conv1): ModuleList(\n",
       "    (0): Conv2d(1, 64, kernel_size=(3, 300), stride=(1, 1), padding=(1, 0))\n",
       "    (1): Conv2d(1, 64, kernel_size=(4, 300), stride=(1, 1), padding=(2, 0))\n",
       "    (2): Conv2d(1, 64, kernel_size=(5, 300), stride=(1, 1), padding=(3, 0))\n",
       "  )\n",
       "  (fc): Linear(in_features=192, out_features=3, bias=True)\n",
       "  (dropout): Dropout(p=0.5, inplace=False)\n",
       "  (relu): ReLU()\n",
       "  (sig): Sigmoid()\n",
       ")"
      ]
     },
     "execution_count": 105,
     "metadata": {},
     "output_type": "execute_result"
    }
   ],
   "source": [
    "cnn = CNN(embedding_dim=300, hidden_size=64, vocab_size=len(vocabulary), output_size=3, feature_size=5)\n",
    "optimizer = optim.Adam(cnn.parameters(), lr=1e-4)\n",
    "#criterion = nn.NLLLoss()\n",
    "# weight_i = total_samples / (num_samples_in_i * output_size)\n",
    "#weights = [0.34, 32.78, 24.87]\n",
    "weights = [0.01, 45, 55]\n",
    "class_weights = torch.FloatTensor(weights)\n",
    "criterion = nn.CrossEntropyLoss(weight=class_weights)\n",
    "cnn.embedding.weight.data = pretrained_embedding\n",
    "cnn.embedding.weight.requires_grad = True\n",
    "cnn.to(device)"
   ]
  },
  {
   "cell_type": "code",
   "execution_count": 106,
   "metadata": {},
   "outputs": [
    {
     "name": "stdout",
     "output_type": "stream",
     "text": [
      "Total Training Time (total number of epochs: 5)\n",
      "[Epoch 1] loss:\t135.353, f1 train: 0.992, f1 test: 0.993 \n",
      "[Epoch 2] loss:\t115.433, f1 train: 0.992, f1 test: 0.993 \n",
      "[Epoch 3] loss:\t110.164, f1 train: 0.992, f1 test: 0.993 \n",
      "[Epoch 4] loss:\t108.323, f1 train: 0.992, f1 test: 0.993 \n"
     ]
    },
    {
     "data": {
      "image/png": "[encoded data removed]",
      "text/plain": [
       "<Figure size 640x480 with 2 Axes>"
      ]
     },
     "metadata": {},
     "output_type": "display_data"
    },
    {
     "name": "stdout",
     "output_type": "stream",
     "text": [
      "[Epoch 5] loss:\t107.925, f1 train: 0.992, f1 test: 0.993 \n"
     ]
    }
   ],
   "source": [
    "num_epochs = 5\n",
    "new_results = train(cnn, train_loader, test_loader, optimizer, criterion, num_epochs)"
   ]
  },
  {
   "cell_type": "markdown",
   "metadata": {},
   "source": [
    "Overall, the performance is still not satisfying. The dataset is quite small, with only around 50 tweets that are labelled to have impact on Bitcoin price, which is not enough for model to learn any useful features."
   ]
  }
 ],
 "metadata": {
  "kernelspec": {
   "display_name": "Python 3",
   "language": "python",
   "name": "python3"
  },
  "language_info": {
   "codemirror_mode": {
    "name": "ipython",
    "version": 3
   },
   "file_extension": ".py",
   "mimetype": "text/x-python",
   "name": "python",
   "nbconvert_exporter": "python",
   "pygments_lexer": "ipython3",
   "version": "3.10.2"
  }
 },
 "nbformat": 4,
 "nbformat_minor": 2
}

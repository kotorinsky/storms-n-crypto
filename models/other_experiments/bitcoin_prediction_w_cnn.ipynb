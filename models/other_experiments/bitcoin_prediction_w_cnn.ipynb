{
 "cells": [
  {
   "cell_type": "markdown",
   "metadata": {},
   "source": [
    "# Bitcoin Price Trend Prediction with CNN"
   ]
  },
  {
   "cell_type": "markdown",
   "metadata": {},
   "source": [
    "## Setup"
   ]
  },
  {
   "cell_type": "code",
   "execution_count": 2,
   "metadata": {},
   "outputs": [],
   "source": [
    "import pandas as pd\n",
    "import numpy as np\n",
    "import re\n",
    "import seaborn as sn\n",
    "import torch\n",
    "import torchtext\n",
    "import torch.autograd as autograd\n",
    "import torch.nn.functional as F\n",
    "import torch.nn as nn\n",
    "import torch.optim as optim\n",
    "import torchtext\n",
    "\n",
    "from torch.utils.data import DataLoader\n",
    "from torchmetrics import ConfusionMatrix"
   ]
  },
  {
   "cell_type": "code",
   "execution_count": 3,
   "metadata": {},
   "outputs": [],
   "source": [
    "import matplotlib.pyplot as plt\n",
    "%matplotlib inline"
   ]
  },
  {
   "cell_type": "code",
   "execution_count": null,
   "metadata": {
    "vscode": {
     "languageId": "shellscript"
    }
   },
   "outputs": [
    {
     "name": "stdout",
     "output_type": "stream",
     "text": [
      "Collecting tweet-preprocessor\n",
      "  Obtaining dependency information for tweet-preprocessor from https://files.pythonhosted.org/packages/17/9d/71bd016a9edcef8860c607e531f30bd09b13103c7951ae73dd2bf174163c/tweet_preprocessor-0.6.0-py3-none-any.whl.metadata\n",
      "  Downloading tweet_preprocessor-0.6.0-py3-none-any.whl.metadata (5.9 kB)\n",
      "Downloading tweet_preprocessor-0.6.0-py3-none-any.whl (27 kB)\n",
      "Installing collected packages: tweet-preprocessor\n",
      "Successfully installed tweet-preprocessor-0.6.0\n",
      "\n",
      "\u001b[1m[\u001b[0m\u001b[34;49mnotice\u001b[0m\u001b[1;39;49m]\u001b[0m\u001b[39;49m A new release of pip is available: \u001b[0m\u001b[31;49m23.2.1\u001b[0m\u001b[39;49m -> \u001b[0m\u001b[32;49m24.0\u001b[0m\n",
      "\u001b[1m[\u001b[0m\u001b[34;49mnotice\u001b[0m\u001b[1;39;49m]\u001b[0m\u001b[39;49m To update, run: \u001b[0m\u001b[32;49mpip install --upgrade pip\u001b[0m\n"
     ]
    }
   ],
   "source": [
    "!pip install tweet-preprocessor"
   ]
  },
  {
   "cell_type": "code",
   "execution_count": 4,
   "metadata": {},
   "outputs": [],
   "source": [
    "import preprocessor as tp"
   ]
  },
  {
   "cell_type": "code",
   "execution_count": 6,
   "metadata": {},
   "outputs": [
    {
     "name": "stderr",
     "output_type": "stream",
     "text": [
      "[nltk_data] Downloading package wordnet to\n",
      "[nltk_data]     /Users/yljasmine/nltk_data...\n",
      "[nltk_data]   Package wordnet is already up-to-date!\n",
      "[nltk_data] Downloading package stopwords to\n",
      "[nltk_data]     /Users/yljasmine/nltk_data...\n",
      "[nltk_data]   Package stopwords is already up-to-date!\n",
      "[nltk_data] Downloading package omw-1.4 to\n",
      "[nltk_data]     /Users/yljasmine/nltk_data...\n",
      "[nltk_data]   Package omw-1.4 is already up-to-date!\n"
     ]
    }
   ],
   "source": [
    "import nltk\n",
    "from nltk.corpus import stopwords\n",
    "nltk.download\n",
    "nltk.download('wordnet')\n",
    "nltk.download('stopwords')\n",
    "nltk.download('omw-1.4')\n",
    "from nltk.tokenize import TweetTokenizer"
   ]
  },
  {
   "cell_type": "code",
   "execution_count": 7,
   "metadata": {},
   "outputs": [],
   "source": [
    "from sklearn import metrics\n",
    "from sklearn.model_selection import train_test_split\n",
    "from sklearn.preprocessing import LabelEncoder\n",
    "from collections import Counter, OrderedDict"
   ]
  },
  {
   "cell_type": "markdown",
   "metadata": {},
   "source": [
    "## Preprocess"
   ]
  },
  {
   "cell_type": "markdown",
   "metadata": {},
   "source": [
    "### Breakdown original files"
   ]
  },
  {
   "cell_type": "markdown",
   "metadata": {},
   "source": [
    "The original file has more than 2GB data, we have to split and process them in batch. Data source https://www.kaggle.com/datasets/kaushiksuresh147/bitcoin-tweets."
   ]
  },
  {
   "cell_type": "code",
   "execution_count": null,
   "metadata": {
    "vscode": {
     "languageId": "shellscript"
    }
   },
   "outputs": [],
   "source": [
    "# run in command line, data file is not included in the repo\n",
    "split -l 5000000 -d tweets-with-price.csv tweets-with-price_\n",
    "for i in $(find tweets-with-price_*); do mv $i \"$i.csv\"; done \n",
    "for i in $(find . -type f -name \"tweets-with-price_*.csv\" -not -name \"tweets-with-price_00.csv\");\n",
    "    do echo -e \"$(head -1 tweets-with-price_00.csv)\\n$(cat $i)\" > $i;\n",
    "done"
   ]
  },
  {
   "cell_type": "markdown",
   "metadata": {},
   "source": [
    "Read raw data to dataframe, here we choose to ignore those non-English tweets."
   ]
  },
  {
   "cell_type": "code",
   "execution_count": 18,
   "metadata": {},
   "outputs": [
    {
     "name": "stderr",
     "output_type": "stream",
     "text": [
      "/var/folders/dv/jgp81_zd7q112t2sf_4ppk5r0000gn/T/ipykernel_48236/3279032350.py:4: FutureWarning: The error_bad_lines argument has been deprecated and will be removed in a future version. Use on_bad_lines in the future.\n",
      "\n",
      "\n",
      "  d = pd.read_csv(filename, engine='python', error_bad_lines=False,  encoding='utf-8')\n",
      "Skipping line 1130212: unexpected end of data\n",
      "/var/folders/dv/jgp81_zd7q112t2sf_4ppk5r0000gn/T/ipykernel_48236/3279032350.py:4: FutureWarning: The error_bad_lines argument has been deprecated and will be removed in a future version. Use on_bad_lines in the future.\n",
      "\n",
      "\n",
      "  d = pd.read_csv(filename, engine='python', error_bad_lines=False,  encoding='utf-8')\n",
      "/var/folders/dv/jgp81_zd7q112t2sf_4ppk5r0000gn/T/ipykernel_48236/3279032350.py:4: FutureWarning: The error_bad_lines argument has been deprecated and will be removed in a future version. Use on_bad_lines in the future.\n",
      "\n",
      "\n",
      "  d = pd.read_csv(filename, engine='python', error_bad_lines=False,  encoding='utf-8')\n",
      "Skipping line 263958: NULL byte detected. This byte cannot be processed in Python's native csv library at the moment, so please pass in engine='c' instead\n",
      "Skipping line 264994: NULL byte detected. This byte cannot be processed in Python's native csv library at the moment, so please pass in engine='c' instead\n",
      "Skipping line 351518: NULL byte detected. This byte cannot be processed in Python's native csv library at the moment, so please pass in engine='c' instead\n",
      "/var/folders/dv/jgp81_zd7q112t2sf_4ppk5r0000gn/T/ipykernel_48236/3279032350.py:4: FutureWarning: The error_bad_lines argument has been deprecated and will be removed in a future version. Use on_bad_lines in the future.\n",
      "\n",
      "\n",
      "  d = pd.read_csv(filename, engine='python', error_bad_lines=False,  encoding='utf-8')\n",
      "/var/folders/dv/jgp81_zd7q112t2sf_4ppk5r0000gn/T/ipykernel_48236/3279032350.py:4: FutureWarning: The error_bad_lines argument has been deprecated and will be removed in a future version. Use on_bad_lines in the future.\n",
      "\n",
      "\n",
      "  d = pd.read_csv(filename, engine='python', error_bad_lines=False,  encoding='utf-8')\n"
     ]
    }
   ],
   "source": [
    "# csv files not included in the repo\n",
    "origin = []\n",
    "for x in range(5):\n",
    "  filename = 'tweets-with-price_0{}.csv'.format(x)\n",
    "  d = pd.read_csv(filename, engine='python', error_bad_lines=False,  encoding='utf-8')\n",
    "  origin.append(d)"
   ]
  },
  {
   "cell_type": "code",
   "execution_count": 14,
   "metadata": {},
   "outputs": [
    {
     "name": "stdout",
     "output_type": "stream",
     "text": [
      "5\n"
     ]
    }
   ],
   "source": [
    "print(len(origin))"
   ]
  },
  {
   "cell_type": "markdown",
   "metadata": {},
   "source": [
    "### Clean data"
   ]
  },
  {
   "cell_type": "markdown",
   "metadata": {},
   "source": [
    "Clean the raw data, including: \n",
    "* drop useless features \n",
    "* drop null data\n",
    "* convert to proper data type\n",
    "* convert categorical feature to numerical data\n",
    "* filter data based on user followers to remove ads."
   ]
  },
  {
   "cell_type": "code",
   "execution_count": 19,
   "metadata": {},
   "outputs": [],
   "source": [
    "def clean_data(df):\n",
    "  df_pre = df.drop(['source', 'user_location', 'user_description', 'user_created', 'date'], axis=1)\n",
    "  print(\"Before:\",df_pre.shape)\n",
    "  df_pre = df_pre.dropna(subset=['user_name'])\n",
    "  df_pre = df_pre.dropna(subset=['is_retweet'])\n",
    "  df_pre['user_name'] = df_pre['user_name'].astype(str)\n",
    "  df_pre[\"user_favourites\"] = df_pre[\"user_favourites\"].astype(float).astype(int)\n",
    "  df_pre[\"user_followers\"] = df_pre[\"user_followers\"].astype(float).astype(int)\n",
    "  df_pre[\"user_friends\"] = df_pre[\"user_friends\"].astype(float).astype(int)\n",
    "  df_pre.user_verified.replace({'True': 1, 'False': 0}, inplace=True)\n",
    "  df_pre.is_retweet.replace({'True': 1, 'False': 0}, inplace=True)\n",
    "  df_pre[\"user_verified\"] = df_pre[\"user_verified\"].astype(int)\n",
    "  df_pre[\"is_retweet\"] = df_pre[\"is_retweet\"].astype(int)\n",
    "  df_pre = df_pre.drop(df_pre[(df_pre.user_followers < 100000)].index)\n",
    "  print(\"After:\",df_pre.shape)\n",
    "  df_pre.head()\n",
    "  return df_pre"
   ]
  },
  {
   "cell_type": "markdown",
   "metadata": {},
   "source": [
    "Concatenate all the files into one dataframe."
   ]
  },
  {
   "cell_type": "code",
   "execution_count": 20,
   "metadata": {},
   "outputs": [
    {
     "name": "stdout",
     "output_type": "stream",
     "text": [
      "Before: (1130210, 9)\n",
      "After: (11855, 9)\n",
      "Before: (15471, 9)\n",
      "After: (182, 9)\n",
      "Before: (361936, 9)\n",
      "After: (1897, 9)\n",
      "Before: (46775, 9)\n",
      "After: (671, 9)\n",
      "Before: (48356, 9)\n",
      "After: (542, 9)\n"
     ]
    }
   ],
   "source": [
    "pre = []\n",
    "for df in origin:\n",
    "  p = clean_data(df)\n",
    "  pre.append(p)\n",
    "df_pre = pd.concat(pre)"
   ]
  },
  {
   "cell_type": "code",
   "execution_count": 10,
   "metadata": {},
   "outputs": [
    {
     "name": "stdout",
     "output_type": "stream",
     "text": [
      "Size after processing:  (15147, 9)\n"
     ]
    }
   ],
   "source": [
    "print(\"Size after processing: \", df_pre.shape)"
   ]
  },
  {
   "cell_type": "code",
   "execution_count": 328,
   "metadata": {},
   "outputs": [
    {
     "data": {
      "text/html": [
       "<div>\n",
       "<style scoped>\n",
       "    .dataframe tbody tr th:only-of-type {\n",
       "        vertical-align: middle;\n",
       "    }\n",
       "\n",
       "    .dataframe tbody tr th {\n",
       "        vertical-align: top;\n",
       "    }\n",
       "\n",
       "    .dataframe thead th {\n",
       "        text-align: right;\n",
       "    }\n",
       "</style>\n",
       "<table border=\"1\" class=\"dataframe\">\n",
       "  <thead>\n",
       "    <tr style=\"text-align: right;\">\n",
       "      <th></th>\n",
       "      <th>user_name</th>\n",
       "      <th>user_followers</th>\n",
       "      <th>user_friends</th>\n",
       "      <th>user_favourites</th>\n",
       "      <th>user_verified</th>\n",
       "      <th>text</th>\n",
       "      <th>hashtags</th>\n",
       "      <th>is_retweet</th>\n",
       "      <th>next_15min_prices</th>\n",
       "    </tr>\n",
       "  </thead>\n",
       "  <tbody>\n",
       "    <tr>\n",
       "      <th>479</th>\n",
       "      <td>CryptoCurrency News</td>\n",
       "      <td>179616</td>\n",
       "      <td>697</td>\n",
       "      <td>5035</td>\n",
       "      <td>0</td>\n",
       "      <td>Someone bought a Tesla Model S in 2013 for 91....</td>\n",
       "      <td>['BTC', 'Bitcoin']</td>\n",
       "      <td>0</td>\n",
       "      <td>[44959.12, 44963.91, 44953.04, 44904.16, 44884...</td>\n",
       "    </tr>\n",
       "    <tr>\n",
       "      <th>880</th>\n",
       "      <td>Blockstream</td>\n",
       "      <td>131970</td>\n",
       "      <td>794</td>\n",
       "      <td>12454</td>\n",
       "      <td>1</td>\n",
       "      <td>#BlockstreamAQUA is our new #Bitcoin and @Liqu...</td>\n",
       "      <td>['BlockstreamAQUA', 'Bitcoin']</td>\n",
       "      <td>0</td>\n",
       "      <td>[44988.75, 45019.15, 45021.52, 45088.86, 45115...</td>\n",
       "    </tr>\n",
       "    <tr>\n",
       "      <th>1100</th>\n",
       "      <td>Mike Schiemer</td>\n",
       "      <td>216616</td>\n",
       "      <td>145451</td>\n",
       "      <td>79651</td>\n",
       "      <td>0</td>\n",
       "      <td>How To Potentially Profit From Bitcoin Without...</td>\n",
       "      <td>['CFD', 'BTC', 'Bitcoin', 'Crypto']</td>\n",
       "      <td>0</td>\n",
       "      <td>[44619.81, 44536.9, 44567.94, 44475.01, 44496....</td>\n",
       "    </tr>\n",
       "    <tr>\n",
       "      <th>1326</th>\n",
       "      <td>TrendSpider</td>\n",
       "      <td>102521</td>\n",
       "      <td>1201</td>\n",
       "      <td>24073</td>\n",
       "      <td>0</td>\n",
       "      <td>$BTCUSD #Bitcoin #BTC Going down right through...</td>\n",
       "      <td>['Bitcoin', 'BTC']</td>\n",
       "      <td>0</td>\n",
       "      <td>[44009.61, 43872.41, 43817.88, 43897.7, 43927....</td>\n",
       "    </tr>\n",
       "    <tr>\n",
       "      <th>1411</th>\n",
       "      <td>CNBC</td>\n",
       "      <td>3977144</td>\n",
       "      <td>843</td>\n",
       "      <td>612</td>\n",
       "      <td>1</td>\n",
       "      <td>\"It has to be part of the menu,\" says @JimCram...</td>\n",
       "      <td>['bitcoin']</td>\n",
       "      <td>0</td>\n",
       "      <td>[44790.81, 44799.23, 44844.8, 44761.73, 44611....</td>\n",
       "    </tr>\n",
       "  </tbody>\n",
       "</table>\n",
       "</div>"
      ],
      "text/plain": [
       "                user_name  user_followers  user_friends  user_favourites  \\\n",
       "479   CryptoCurrency News          179616           697             5035   \n",
       "880           Blockstream          131970           794            12454   \n",
       "1100        Mike Schiemer          216616        145451            79651   \n",
       "1326          TrendSpider          102521          1201            24073   \n",
       "1411                 CNBC         3977144           843              612   \n",
       "\n",
       "      user_verified                                               text  \\\n",
       "479               0  Someone bought a Tesla Model S in 2013 for 91....   \n",
       "880               1  #BlockstreamAQUA is our new #Bitcoin and @Liqu...   \n",
       "1100              0  How To Potentially Profit From Bitcoin Without...   \n",
       "1326              0  $BTCUSD #Bitcoin #BTC Going down right through...   \n",
       "1411              1  \"It has to be part of the menu,\" says @JimCram...   \n",
       "\n",
       "                                 hashtags  is_retweet  \\\n",
       "479                    ['BTC', 'Bitcoin']           0   \n",
       "880        ['BlockstreamAQUA', 'Bitcoin']           0   \n",
       "1100  ['CFD', 'BTC', 'Bitcoin', 'Crypto']           0   \n",
       "1326                   ['Bitcoin', 'BTC']           0   \n",
       "1411                          ['bitcoin']           0   \n",
       "\n",
       "                                      next_15min_prices  \n",
       "479   [44959.12, 44963.91, 44953.04, 44904.16, 44884...  \n",
       "880   [44988.75, 45019.15, 45021.52, 45088.86, 45115...  \n",
       "1100  [44619.81, 44536.9, 44567.94, 44475.01, 44496....  \n",
       "1326  [44009.61, 43872.41, 43817.88, 43897.7, 43927....  \n",
       "1411  [44790.81, 44799.23, 44844.8, 44761.73, 44611....  "
      ]
     },
     "execution_count": 328,
     "metadata": {},
     "output_type": "execute_result"
    }
   ],
   "source": [
    "df_pre.head()"
   ]
  },
  {
   "cell_type": "code",
   "execution_count": 24,
   "metadata": {},
   "outputs": [
    {
     "data": {
      "text/plain": [
       "user_name             0\n",
       "user_followers        0\n",
       "user_friends          0\n",
       "user_favourites       0\n",
       "user_verified         0\n",
       "text                  0\n",
       "hashtags             98\n",
       "is_retweet            0\n",
       "next_15min_prices     0\n",
       "dtype: int64"
      ]
     },
     "execution_count": 24,
     "metadata": {},
     "output_type": "execute_result"
    }
   ],
   "source": [
    "df_pre.isnull().sum()"
   ]
  },
  {
   "cell_type": "markdown",
   "metadata": {},
   "source": [
    "### is_retweet"
   ]
  },
  {
   "cell_type": "markdown",
   "metadata": {},
   "source": [
    "There's only one category, ie. there is no retweet in dataset, therefore remove this feature."
   ]
  },
  {
   "cell_type": "code",
   "execution_count": 21,
   "metadata": {},
   "outputs": [
    {
     "data": {
      "text/plain": [
       "479    0\n",
       "Name: is_retweet, dtype: int64"
      ]
     },
     "execution_count": 21,
     "metadata": {},
     "output_type": "execute_result"
    }
   ],
   "source": [
    "df_pre[\"is_retweet\"].drop_duplicates()"
   ]
  },
  {
   "cell_type": "code",
   "execution_count": 22,
   "metadata": {},
   "outputs": [],
   "source": [
    "df_pre = df_pre.drop(['is_retweet'], axis=1)"
   ]
  },
  {
   "cell_type": "markdown",
   "metadata": {},
   "source": [
    "### Preprocess tweet"
   ]
  },
  {
   "cell_type": "markdown",
   "metadata": {},
   "source": [
    "1. Use Twitter-Processor to clean the tweet, including URL/mention/hashtag removing."
   ]
  },
  {
   "cell_type": "code",
   "execution_count": 23,
   "metadata": {},
   "outputs": [],
   "source": [
    "def preprocess_tweet(text):\n",
    "    text = tp.clean(text)\n",
    "    return text"
   ]
  },
  {
   "cell_type": "code",
   "execution_count": 24,
   "metadata": {},
   "outputs": [],
   "source": [
    "df_pre['clean_text'] = df_pre['text'].apply(preprocess_tweet)"
   ]
  },
  {
   "cell_type": "code",
   "execution_count": 237,
   "metadata": {},
   "outputs": [
    {
     "data": {
      "text/html": [
       "<div>\n",
       "<style scoped>\n",
       "    .dataframe tbody tr th:only-of-type {\n",
       "        vertical-align: middle;\n",
       "    }\n",
       "\n",
       "    .dataframe tbody tr th {\n",
       "        vertical-align: top;\n",
       "    }\n",
       "\n",
       "    .dataframe thead th {\n",
       "        text-align: right;\n",
       "    }\n",
       "</style>\n",
       "<table border=\"1\" class=\"dataframe\">\n",
       "  <thead>\n",
       "    <tr style=\"text-align: right;\">\n",
       "      <th></th>\n",
       "      <th>user_name</th>\n",
       "      <th>user_followers</th>\n",
       "      <th>user_friends</th>\n",
       "      <th>user_favourites</th>\n",
       "      <th>user_verified</th>\n",
       "      <th>text</th>\n",
       "      <th>hashtags</th>\n",
       "      <th>next_15min_prices</th>\n",
       "      <th>clean_text</th>\n",
       "    </tr>\n",
       "  </thead>\n",
       "  <tbody>\n",
       "    <tr>\n",
       "      <th>479</th>\n",
       "      <td>CryptoCurrency News</td>\n",
       "      <td>179616</td>\n",
       "      <td>697</td>\n",
       "      <td>5035</td>\n",
       "      <td>0</td>\n",
       "      <td>Someone bought a Tesla Model S in 2013 for 91....</td>\n",
       "      <td>['BTC', 'Bitcoin']</td>\n",
       "      <td>[44959.12, 44963.91, 44953.04, 44904.16, 44884...</td>\n",
       "      <td>Someone bought a Tesla Model S in for ($103,00...</td>\n",
       "    </tr>\n",
       "    <tr>\n",
       "      <th>880</th>\n",
       "      <td>Blockstream</td>\n",
       "      <td>131970</td>\n",
       "      <td>794</td>\n",
       "      <td>12454</td>\n",
       "      <td>1</td>\n",
       "      <td>#BlockstreamAQUA is our new #Bitcoin and @Liqu...</td>\n",
       "      <td>['BlockstreamAQUA', 'Bitcoin']</td>\n",
       "      <td>[44988.75, 45019.15, 45021.52, 45088.86, 45115...</td>\n",
       "      <td>is our new and wallet designed to be as easy a...</td>\n",
       "    </tr>\n",
       "    <tr>\n",
       "      <th>1100</th>\n",
       "      <td>Mike Schiemer</td>\n",
       "      <td>216616</td>\n",
       "      <td>145451</td>\n",
       "      <td>79651</td>\n",
       "      <td>0</td>\n",
       "      <td>How To Potentially Profit From Bitcoin Without...</td>\n",
       "      <td>['CFD', 'BTC', 'Bitcoin', 'Crypto']</td>\n",
       "      <td>[44619.81, 44536.9, 44567.94, 44475.01, 44496....</td>\n",
       "      <td>How To Potentially Profit From Bitcoin Without...</td>\n",
       "    </tr>\n",
       "    <tr>\n",
       "      <th>1326</th>\n",
       "      <td>TrendSpider</td>\n",
       "      <td>102521</td>\n",
       "      <td>1201</td>\n",
       "      <td>24073</td>\n",
       "      <td>0</td>\n",
       "      <td>$BTCUSD #Bitcoin #BTC Going down right through...</td>\n",
       "      <td>['Bitcoin', 'BTC']</td>\n",
       "      <td>[44009.61, 43872.41, 43817.88, 43897.7, 43927....</td>\n",
       "      <td>$BTCUSD Going down right through the anchored ...</td>\n",
       "    </tr>\n",
       "    <tr>\n",
       "      <th>1411</th>\n",
       "      <td>CNBC</td>\n",
       "      <td>3977144</td>\n",
       "      <td>843</td>\n",
       "      <td>612</td>\n",
       "      <td>1</td>\n",
       "      <td>\"It has to be part of the menu,\" says @JimCram...</td>\n",
       "      <td>['bitcoin']</td>\n",
       "      <td>[44790.81, 44799.23, 44844.8, 44761.73, 44611....</td>\n",
       "      <td>\"It has to be part of the menu,\" says on on co...</td>\n",
       "    </tr>\n",
       "  </tbody>\n",
       "</table>\n",
       "</div>"
      ],
      "text/plain": [
       "                user_name  user_followers  user_friends  user_favourites  \\\n",
       "479   CryptoCurrency News          179616           697             5035   \n",
       "880           Blockstream          131970           794            12454   \n",
       "1100        Mike Schiemer          216616        145451            79651   \n",
       "1326          TrendSpider          102521          1201            24073   \n",
       "1411                 CNBC         3977144           843              612   \n",
       "\n",
       "      user_verified                                               text  \\\n",
       "479               0  Someone bought a Tesla Model S in 2013 for 91....   \n",
       "880               1  #BlockstreamAQUA is our new #Bitcoin and @Liqu...   \n",
       "1100              0  How To Potentially Profit From Bitcoin Without...   \n",
       "1326              0  $BTCUSD #Bitcoin #BTC Going down right through...   \n",
       "1411              1  \"It has to be part of the menu,\" says @JimCram...   \n",
       "\n",
       "                                 hashtags  \\\n",
       "479                    ['BTC', 'Bitcoin']   \n",
       "880        ['BlockstreamAQUA', 'Bitcoin']   \n",
       "1100  ['CFD', 'BTC', 'Bitcoin', 'Crypto']   \n",
       "1326                   ['Bitcoin', 'BTC']   \n",
       "1411                          ['bitcoin']   \n",
       "\n",
       "                                      next_15min_prices  \\\n",
       "479   [44959.12, 44963.91, 44953.04, 44904.16, 44884...   \n",
       "880   [44988.75, 45019.15, 45021.52, 45088.86, 45115...   \n",
       "1100  [44619.81, 44536.9, 44567.94, 44475.01, 44496....   \n",
       "1326  [44009.61, 43872.41, 43817.88, 43897.7, 43927....   \n",
       "1411  [44790.81, 44799.23, 44844.8, 44761.73, 44611....   \n",
       "\n",
       "                                             clean_text  \n",
       "479   Someone bought a Tesla Model S in for ($103,00...  \n",
       "880   is our new and wallet designed to be as easy a...  \n",
       "1100  How To Potentially Profit From Bitcoin Without...  \n",
       "1326  $BTCUSD Going down right through the anchored ...  \n",
       "1411  \"It has to be part of the menu,\" says on on co...  "
      ]
     },
     "execution_count": 237,
     "metadata": {},
     "output_type": "execute_result"
    }
   ],
   "source": [
    "df_pre.head()"
   ]
  },
  {
   "cell_type": "code",
   "execution_count": 27,
   "metadata": {},
   "outputs": [
    {
     "data": {
      "text/html": [
       "<div>\n",
       "<style scoped>\n",
       "    .dataframe tbody tr th:only-of-type {\n",
       "        vertical-align: middle;\n",
       "    }\n",
       "\n",
       "    .dataframe tbody tr th {\n",
       "        vertical-align: top;\n",
       "    }\n",
       "\n",
       "    .dataframe thead th {\n",
       "        text-align: right;\n",
       "    }\n",
       "</style>\n",
       "<table border=\"1\" class=\"dataframe\">\n",
       "  <thead>\n",
       "    <tr style=\"text-align: right;\">\n",
       "      <th></th>\n",
       "      <th>text</th>\n",
       "      <th>clean_text</th>\n",
       "    </tr>\n",
       "  </thead>\n",
       "  <tbody>\n",
       "    <tr>\n",
       "      <th>479</th>\n",
       "      <td>Someone bought a Tesla Model S in 2013 for 91....</td>\n",
       "      <td>Someone bought a Tesla Model S in for ($103,00...</td>\n",
       "    </tr>\n",
       "    <tr>\n",
       "      <th>880</th>\n",
       "      <td>#BlockstreamAQUA is our new #Bitcoin and @Liqu...</td>\n",
       "      <td>is our new and wallet designed to be as easy a...</td>\n",
       "    </tr>\n",
       "    <tr>\n",
       "      <th>1100</th>\n",
       "      <td>How To Potentially Profit From Bitcoin Without...</td>\n",
       "      <td>How To Potentially Profit From Bitcoin Without...</td>\n",
       "    </tr>\n",
       "    <tr>\n",
       "      <th>1326</th>\n",
       "      <td>$BTCUSD #Bitcoin #BTC Going down right through...</td>\n",
       "      <td>$BTCUSD Going down right through the anchored ...</td>\n",
       "    </tr>\n",
       "    <tr>\n",
       "      <th>1411</th>\n",
       "      <td>\"It has to be part of the menu,\" says @JimCram...</td>\n",
       "      <td>\"It has to be part of the menu,\" says on on co...</td>\n",
       "    </tr>\n",
       "  </tbody>\n",
       "</table>\n",
       "</div>"
      ],
      "text/plain": [
       "                                                   text  \\\n",
       "479   Someone bought a Tesla Model S in 2013 for 91....   \n",
       "880   #BlockstreamAQUA is our new #Bitcoin and @Liqu...   \n",
       "1100  How To Potentially Profit From Bitcoin Without...   \n",
       "1326  $BTCUSD #Bitcoin #BTC Going down right through...   \n",
       "1411  \"It has to be part of the menu,\" says @JimCram...   \n",
       "\n",
       "                                             clean_text  \n",
       "479   Someone bought a Tesla Model S in for ($103,00...  \n",
       "880   is our new and wallet designed to be as easy a...  \n",
       "1100  How To Potentially Profit From Bitcoin Without...  \n",
       "1326  $BTCUSD Going down right through the anchored ...  \n",
       "1411  \"It has to be part of the menu,\" says on on co...  "
      ]
     },
     "execution_count": 27,
     "metadata": {},
     "output_type": "execute_result"
    }
   ],
   "source": [
    "df_pre.loc[:,['text', 'clean_text']].head()\n"
   ]
  },
  {
   "cell_type": "markdown",
   "metadata": {},
   "source": [
    "2. Lowercase the text, remove punctuation, extra space and digits."
   ]
  },
  {
   "cell_type": "code",
   "execution_count": 25,
   "metadata": {},
   "outputs": [
    {
     "name": "stderr",
     "output_type": "stream",
     "text": [
      "/var/folders/dv/jgp81_zd7q112t2sf_4ppk5r0000gn/T/ipykernel_48236/2683831363.py:1: FutureWarning: The default value of regex will change from True to False in a future version.\n",
      "  df_pre['clean_text'] = df_pre['clean_text'].str.lower().str.replace('[^\\w\\s]',' ').str.replace('\\s\\s+', ' ').str.replace('\\d+', '')\n"
     ]
    }
   ],
   "source": [
    "df_pre['clean_text'] = df_pre['clean_text'].str.lower().str.replace('[^\\w\\s]',' ').str.replace('\\s\\s+', ' ').str.replace('\\d+', '')"
   ]
  },
  {
   "cell_type": "markdown",
   "metadata": {},
   "source": [
    "3. Lemmatize and tokenize the text."
   ]
  },
  {
   "cell_type": "code",
   "execution_count": 26,
   "metadata": {},
   "outputs": [],
   "source": [
    "lemmatizer = nltk.stem.WordNetLemmatizer()\n",
    "w_tokenizer = TweetTokenizer()\n",
    "stop_words = set(stopwords.words('english'))"
   ]
  },
  {
   "cell_type": "code",
   "execution_count": 27,
   "metadata": {},
   "outputs": [],
   "source": [
    "def lemmatize_tweet(row):\n",
    "    text = row['clean_text']\n",
    "    return [(lemmatizer.lemmatize(w)) for w in \\\n",
    "                                     w_tokenizer.tokenize((text))]"
   ]
  },
  {
   "cell_type": "code",
   "execution_count": 28,
   "metadata": {},
   "outputs": [],
   "source": [
    "df_pre['clean_text'] = df_pre.apply(lemmatize_tweet, axis=1)"
   ]
  },
  {
   "cell_type": "markdown",
   "metadata": {},
   "source": [
    "4. Remove stop words."
   ]
  },
  {
   "cell_type": "code",
   "execution_count": 29,
   "metadata": {},
   "outputs": [],
   "source": [
    "df_pre['clean_text'] = df_pre['clean_text'].apply(lambda x: [item for item in x if item not in stop_words])"
   ]
  },
  {
   "cell_type": "code",
   "execution_count": 33,
   "metadata": {},
   "outputs": [
    {
     "data": {
      "text/html": [
       "<div>\n",
       "<style scoped>\n",
       "    .dataframe tbody tr th:only-of-type {\n",
       "        vertical-align: middle;\n",
       "    }\n",
       "\n",
       "    .dataframe tbody tr th {\n",
       "        vertical-align: top;\n",
       "    }\n",
       "\n",
       "    .dataframe thead th {\n",
       "        text-align: right;\n",
       "    }\n",
       "</style>\n",
       "<table border=\"1\" class=\"dataframe\">\n",
       "  <thead>\n",
       "    <tr style=\"text-align: right;\">\n",
       "      <th></th>\n",
       "      <th>text</th>\n",
       "      <th>clean_text</th>\n",
       "    </tr>\n",
       "  </thead>\n",
       "  <tbody>\n",
       "    <tr>\n",
       "      <th>479</th>\n",
       "      <td>Someone bought a Tesla Model S in 2013 for 91....</td>\n",
       "      <td>[someone, bought, tesla, model, today, value, ...</td>\n",
       "    </tr>\n",
       "    <tr>\n",
       "      <th>880</th>\n",
       "      <td>#BlockstreamAQUA is our new #Bitcoin and @Liqu...</td>\n",
       "      <td>[new, wallet, designed, easy, possible, use, s...</td>\n",
       "    </tr>\n",
       "    <tr>\n",
       "      <th>1100</th>\n",
       "      <td>How To Potentially Profit From Bitcoin Without...</td>\n",
       "      <td>[potentially, profit, bitcoin, without, buying...</td>\n",
       "    </tr>\n",
       "    <tr>\n",
       "      <th>1326</th>\n",
       "      <td>$BTCUSD #Bitcoin #BTC Going down right through...</td>\n",
       "      <td>[btcusd, going, right, anchored, vwap, swing, ...</td>\n",
       "    </tr>\n",
       "    <tr>\n",
       "      <th>1411</th>\n",
       "      <td>\"It has to be part of the menu,\" says @JimCram...</td>\n",
       "      <td>[ha, part, menu, say, corporation, balance, sh...</td>\n",
       "    </tr>\n",
       "  </tbody>\n",
       "</table>\n",
       "</div>"
      ],
      "text/plain": [
       "                                                   text  \\\n",
       "479   Someone bought a Tesla Model S in 2013 for 91....   \n",
       "880   #BlockstreamAQUA is our new #Bitcoin and @Liqu...   \n",
       "1100  How To Potentially Profit From Bitcoin Without...   \n",
       "1326  $BTCUSD #Bitcoin #BTC Going down right through...   \n",
       "1411  \"It has to be part of the menu,\" says @JimCram...   \n",
       "\n",
       "                                             clean_text  \n",
       "479   [someone, bought, tesla, model, today, value, ...  \n",
       "880   [new, wallet, designed, easy, possible, use, s...  \n",
       "1100  [potentially, profit, bitcoin, without, buying...  \n",
       "1326  [btcusd, going, right, anchored, vwap, swing, ...  \n",
       "1411  [ha, part, menu, say, corporation, balance, sh...  "
      ]
     },
     "execution_count": 33,
     "metadata": {},
     "output_type": "execute_result"
    }
   ],
   "source": [
    "df_pre.loc[:,['text', 'clean_text']].head()"
   ]
  },
  {
   "cell_type": "markdown",
   "metadata": {},
   "source": [
    "5. Drop the raw text."
   ]
  },
  {
   "cell_type": "code",
   "execution_count": 30,
   "metadata": {},
   "outputs": [],
   "source": [
    "df_pre = df_pre.drop(['text'], axis=1)"
   ]
  },
  {
   "cell_type": "markdown",
   "metadata": {},
   "source": [
    "### user_name"
   ]
  },
  {
   "cell_type": "code",
   "execution_count": 31,
   "metadata": {},
   "outputs": [],
   "source": [
    "df_pre['user_name'] = df_pre['user_name'].apply(preprocess_tweet)"
   ]
  },
  {
   "cell_type": "code",
   "execution_count": 32,
   "metadata": {},
   "outputs": [],
   "source": [
    "df_pre[\"user_name\"] = df_pre[\"user_name\"].str.lower()"
   ]
  },
  {
   "cell_type": "code",
   "execution_count": 33,
   "metadata": {},
   "outputs": [
    {
     "data": {
      "text/plain": [
       "1334"
      ]
     },
     "execution_count": 33,
     "metadata": {},
     "output_type": "execute_result"
    }
   ],
   "source": [
    "df_pre[\"user_name\"].nunique()"
   ]
  },
  {
   "cell_type": "code",
   "execution_count": 34,
   "metadata": {},
   "outputs": [],
   "source": [
    "le = LabelEncoder()\n",
    "le.fit(df_pre[\"user_name\"])\n",
    "df_pre[\"user_name\"] = le.transform(df_pre[\"user_name\"])"
   ]
  },
  {
   "cell_type": "code",
   "execution_count": 337,
   "metadata": {},
   "outputs": [
    {
     "data": {
      "text/html": [
       "<div>\n",
       "<style scoped>\n",
       "    .dataframe tbody tr th:only-of-type {\n",
       "        vertical-align: middle;\n",
       "    }\n",
       "\n",
       "    .dataframe tbody tr th {\n",
       "        vertical-align: top;\n",
       "    }\n",
       "\n",
       "    .dataframe thead th {\n",
       "        text-align: right;\n",
       "    }\n",
       "</style>\n",
       "<table border=\"1\" class=\"dataframe\">\n",
       "  <thead>\n",
       "    <tr style=\"text-align: right;\">\n",
       "      <th></th>\n",
       "      <th>user_name</th>\n",
       "      <th>user_followers</th>\n",
       "      <th>user_friends</th>\n",
       "      <th>user_favourites</th>\n",
       "      <th>user_verified</th>\n",
       "      <th>hashtags</th>\n",
       "      <th>next_15min_prices</th>\n",
       "      <th>clean_text</th>\n",
       "    </tr>\n",
       "  </thead>\n",
       "  <tbody>\n",
       "    <tr>\n",
       "      <th>479</th>\n",
       "      <td>CryptoCurrency News</td>\n",
       "      <td>179616</td>\n",
       "      <td>697</td>\n",
       "      <td>5035</td>\n",
       "      <td>0</td>\n",
       "      <td>['BTC', 'Bitcoin']</td>\n",
       "      <td>[44959.12, 44963.91, 44953.04, 44904.16, 44884...</td>\n",
       "      <td>[someone, bought, tesla, model, today, value, ...</td>\n",
       "    </tr>\n",
       "    <tr>\n",
       "      <th>880</th>\n",
       "      <td>Blockstream</td>\n",
       "      <td>131970</td>\n",
       "      <td>794</td>\n",
       "      <td>12454</td>\n",
       "      <td>1</td>\n",
       "      <td>['BlockstreamAQUA', 'Bitcoin']</td>\n",
       "      <td>[44988.75, 45019.15, 45021.52, 45088.86, 45115...</td>\n",
       "      <td>[new, wallet, designed, easy, possible, use, s...</td>\n",
       "    </tr>\n",
       "    <tr>\n",
       "      <th>1100</th>\n",
       "      <td>Mike Schiemer</td>\n",
       "      <td>216616</td>\n",
       "      <td>145451</td>\n",
       "      <td>79651</td>\n",
       "      <td>0</td>\n",
       "      <td>['CFD', 'BTC', 'Bitcoin', 'Crypto']</td>\n",
       "      <td>[44619.81, 44536.9, 44567.94, 44475.01, 44496....</td>\n",
       "      <td>[potentially, profit, bitcoin, without, buying...</td>\n",
       "    </tr>\n",
       "    <tr>\n",
       "      <th>1326</th>\n",
       "      <td>TrendSpider</td>\n",
       "      <td>102521</td>\n",
       "      <td>1201</td>\n",
       "      <td>24073</td>\n",
       "      <td>0</td>\n",
       "      <td>['Bitcoin', 'BTC']</td>\n",
       "      <td>[44009.61, 43872.41, 43817.88, 43897.7, 43927....</td>\n",
       "      <td>[btcusd, going, right, anchored, vwap, swing, ...</td>\n",
       "    </tr>\n",
       "    <tr>\n",
       "      <th>1411</th>\n",
       "      <td>CNBC</td>\n",
       "      <td>3977144</td>\n",
       "      <td>843</td>\n",
       "      <td>612</td>\n",
       "      <td>1</td>\n",
       "      <td>['bitcoin']</td>\n",
       "      <td>[44790.81, 44799.23, 44844.8, 44761.73, 44611....</td>\n",
       "      <td>[ha, part, menu, say, corporation, balance, sh...</td>\n",
       "    </tr>\n",
       "  </tbody>\n",
       "</table>\n",
       "</div>"
      ],
      "text/plain": [
       "                user_name  user_followers  user_friends  user_favourites  \\\n",
       "479   CryptoCurrency News          179616           697             5035   \n",
       "880           Blockstream          131970           794            12454   \n",
       "1100        Mike Schiemer          216616        145451            79651   \n",
       "1326          TrendSpider          102521          1201            24073   \n",
       "1411                 CNBC         3977144           843              612   \n",
       "\n",
       "      user_verified                             hashtags  \\\n",
       "479               0                   ['BTC', 'Bitcoin']   \n",
       "880               1       ['BlockstreamAQUA', 'Bitcoin']   \n",
       "1100              0  ['CFD', 'BTC', 'Bitcoin', 'Crypto']   \n",
       "1326              0                   ['Bitcoin', 'BTC']   \n",
       "1411              1                          ['bitcoin']   \n",
       "\n",
       "                                      next_15min_prices  \\\n",
       "479   [44959.12, 44963.91, 44953.04, 44904.16, 44884...   \n",
       "880   [44988.75, 45019.15, 45021.52, 45088.86, 45115...   \n",
       "1100  [44619.81, 44536.9, 44567.94, 44475.01, 44496....   \n",
       "1326  [44009.61, 43872.41, 43817.88, 43897.7, 43927....   \n",
       "1411  [44790.81, 44799.23, 44844.8, 44761.73, 44611....   \n",
       "\n",
       "                                             clean_text  \n",
       "479   [someone, bought, tesla, model, today, value, ...  \n",
       "880   [new, wallet, designed, easy, possible, use, s...  \n",
       "1100  [potentially, profit, bitcoin, without, buying...  \n",
       "1326  [btcusd, going, right, anchored, vwap, swing, ...  \n",
       "1411  [ha, part, menu, say, corporation, balance, sh...  "
      ]
     },
     "execution_count": 337,
     "metadata": {},
     "output_type": "execute_result"
    }
   ],
   "source": [
    "df_pre.head()"
   ]
  },
  {
   "cell_type": "markdown",
   "metadata": {},
   "source": [
    "### hashtags"
   ]
  },
  {
   "cell_type": "markdown",
   "metadata": {},
   "source": [
    "Clean hashtags in the tweet, and create vocabulary."
   ]
  },
  {
   "cell_type": "code",
   "execution_count": 35,
   "metadata": {},
   "outputs": [],
   "source": [
    "df_pre['hashtags'] = df_pre['hashtags'].str.lower()"
   ]
  },
  {
   "cell_type": "code",
   "execution_count": 40,
   "metadata": {},
   "outputs": [
    {
     "data": {
      "text/plain": [
       "479                       ['btc', 'bitcoin']\n",
       "880           ['blockstreamaqua', 'bitcoin']\n",
       "1100     ['cfd', 'btc', 'bitcoin', 'crypto']\n",
       "1326                      ['bitcoin', 'btc']\n",
       "1411                             ['bitcoin']\n",
       "                        ...                 \n",
       "48266                            ['bitcoin']\n",
       "48287           ['btc', 'crypto', 'bitcoin']\n",
       "48310                            ['bitcoin']\n",
       "48327                            ['bitcoin']\n",
       "48328                            ['bitcoin']\n",
       "Name: hashtags, Length: 15147, dtype: object"
      ]
     },
     "execution_count": 40,
     "metadata": {},
     "output_type": "execute_result"
    }
   ],
   "source": [
    "df_pre[\"hashtags\"]"
   ]
  },
  {
   "cell_type": "code",
   "execution_count": 36,
   "metadata": {},
   "outputs": [],
   "source": [
    "def strToList(text):\n",
    "    if pd.isnull(text):\n",
    "        return []\n",
    "    tags = text.split(',')\n",
    "    return [re.sub('\\W+','', w) for w in tags]\n",
    "    "
   ]
  },
  {
   "cell_type": "code",
   "execution_count": 37,
   "metadata": {},
   "outputs": [],
   "source": [
    "df_pre[\"hashtags\"] = df_pre[\"hashtags\"].apply(strToList)"
   ]
  },
  {
   "cell_type": "code",
   "execution_count": 38,
   "metadata": {},
   "outputs": [
    {
     "name": "stdout",
     "output_type": "stream",
     "text": [
      "2762\n"
     ]
    }
   ],
   "source": [
    "tag_counter = Counter()\n",
    "for tags in df_pre[\"hashtags\"]:\n",
    "    for t in tags:\n",
    "        tag_counter[t] += 1\n",
    "#tag_counter_sorted = sorted(tag_counter.items(), key=lambda x: x[1], reverse=True)\n",
    "print(len(tag_counter.items()))\n"
   ]
  },
  {
   "cell_type": "code",
   "execution_count": 39,
   "metadata": {},
   "outputs": [],
   "source": [
    "tag_vocab=list(tag_counter.keys())"
   ]
  },
  {
   "cell_type": "markdown",
   "metadata": {},
   "source": [
    "### label"
   ]
  },
  {
   "cell_type": "markdown",
   "metadata": {},
   "source": [
    "Define the label using bitcoin prices:\n",
    "* If the average price for next 15 minutes increases more than 1%, we consider the tweet will lead to an \"increase\" of price. \n",
    "* If the average price for next 15 minutes drops more than 1%, we consider the tweet will lead to the \"decrease\" of price. \n",
    "* Else, we consider the tweet has \"no change\" to the price."
   ]
  },
  {
   "cell_type": "code",
   "execution_count": 4,
   "metadata": {},
   "outputs": [],
   "source": [
    "#df = pd.read_csv(\"preprocess.csv\")"
   ]
  },
  {
   "cell_type": "code",
   "execution_count": 40,
   "metadata": {},
   "outputs": [],
   "source": [
    "label_map = {\"no change\": 0, \"decrease\": 1, \"increase\": 2}"
   ]
  },
  {
   "cell_type": "code",
   "execution_count": 41,
   "metadata": {},
   "outputs": [],
   "source": [
    "def getLabel(row):\n",
    "    raw = row[\"next_15min_prices\"].split(',')\n",
    "    prices = [float(re.sub('[\\s\\[\\]]+','', w)) for w in raw]\n",
    "    #print(len(prices))\n",
    "    #print(prices)\n",
    "    mean = np.mean(prices[1:])\n",
    "    r = np.divide(mean - prices[0], prices[0]) * 100\n",
    "    if r > 1:\n",
    "        return 2\n",
    "    if r < -1:\n",
    "        return 1\n",
    "    return 0"
   ]
  },
  {
   "cell_type": "code",
   "execution_count": 42,
   "metadata": {},
   "outputs": [],
   "source": [
    "df_pre[\"label\"] = df_pre.apply(getLabel, axis=1)"
   ]
  },
  {
   "cell_type": "code",
   "execution_count": 43,
   "metadata": {},
   "outputs": [
    {
     "data": {
      "text/plain": [
       "0    14790\n",
       "2      203\n",
       "1      154\n",
       "Name: label, dtype: int64"
      ]
     },
     "execution_count": 43,
     "metadata": {},
     "output_type": "execute_result"
    }
   ],
   "source": [
    "df_pre[\"label\"].value_counts()"
   ]
  },
  {
   "cell_type": "code",
   "execution_count": 49,
   "metadata": {},
   "outputs": [],
   "source": [
    "df_pre = df_pre.drop(['next_15min_prices'], axis=1)"
   ]
  },
  {
   "cell_type": "code",
   "execution_count": 267,
   "metadata": {},
   "outputs": [
    {
     "data": {
      "text/html": [
       "<div>\n",
       "<style scoped>\n",
       "    .dataframe tbody tr th:only-of-type {\n",
       "        vertical-align: middle;\n",
       "    }\n",
       "\n",
       "    .dataframe tbody tr th {\n",
       "        vertical-align: top;\n",
       "    }\n",
       "\n",
       "    .dataframe thead th {\n",
       "        text-align: right;\n",
       "    }\n",
       "</style>\n",
       "<table border=\"1\" class=\"dataframe\">\n",
       "  <thead>\n",
       "    <tr style=\"text-align: right;\">\n",
       "      <th></th>\n",
       "      <th>user_name</th>\n",
       "      <th>user_followers</th>\n",
       "      <th>user_friends</th>\n",
       "      <th>user_favourites</th>\n",
       "      <th>user_verified</th>\n",
       "      <th>hashtags</th>\n",
       "      <th>clean_text</th>\n",
       "      <th>label</th>\n",
       "    </tr>\n",
       "  </thead>\n",
       "  <tbody>\n",
       "    <tr>\n",
       "      <th>479</th>\n",
       "      <td>314</td>\n",
       "      <td>179616</td>\n",
       "      <td>697</td>\n",
       "      <td>5035</td>\n",
       "      <td>0</td>\n",
       "      <td>[btc, bitcoin]</td>\n",
       "      <td>[someone, bought, tesla, model, today, value, ...</td>\n",
       "      <td>0</td>\n",
       "    </tr>\n",
       "    <tr>\n",
       "      <th>880</th>\n",
       "      <td>141</td>\n",
       "      <td>131970</td>\n",
       "      <td>794</td>\n",
       "      <td>12454</td>\n",
       "      <td>1</td>\n",
       "      <td>[blockstreamaqua, bitcoin]</td>\n",
       "      <td>[new, wallet, designed, easy, possible, use, s...</td>\n",
       "      <td>0</td>\n",
       "    </tr>\n",
       "    <tr>\n",
       "      <th>1100</th>\n",
       "      <td>808</td>\n",
       "      <td>216616</td>\n",
       "      <td>145451</td>\n",
       "      <td>79651</td>\n",
       "      <td>0</td>\n",
       "      <td>[cfd, btc, bitcoin, crypto]</td>\n",
       "      <td>[potentially, profit, bitcoin, without, buying...</td>\n",
       "      <td>0</td>\n",
       "    </tr>\n",
       "    <tr>\n",
       "      <th>1326</th>\n",
       "      <td>1196</td>\n",
       "      <td>102521</td>\n",
       "      <td>1201</td>\n",
       "      <td>24073</td>\n",
       "      <td>0</td>\n",
       "      <td>[bitcoin, btc]</td>\n",
       "      <td>[btcusd, going, right, anchored, vwap, swing, ...</td>\n",
       "      <td>0</td>\n",
       "    </tr>\n",
       "    <tr>\n",
       "      <th>1411</th>\n",
       "      <td>242</td>\n",
       "      <td>3977144</td>\n",
       "      <td>843</td>\n",
       "      <td>612</td>\n",
       "      <td>1</td>\n",
       "      <td>[bitcoin]</td>\n",
       "      <td>[ha, part, menu, say, corporation, balance, sh...</td>\n",
       "      <td>0</td>\n",
       "    </tr>\n",
       "  </tbody>\n",
       "</table>\n",
       "</div>"
      ],
      "text/plain": [
       "      user_name  user_followers  user_friends  user_favourites  user_verified  \\\n",
       "479         314          179616           697             5035              0   \n",
       "880         141          131970           794            12454              1   \n",
       "1100        808          216616        145451            79651              0   \n",
       "1326       1196          102521          1201            24073              0   \n",
       "1411        242         3977144           843              612              1   \n",
       "\n",
       "                         hashtags  \\\n",
       "479                [btc, bitcoin]   \n",
       "880    [blockstreamaqua, bitcoin]   \n",
       "1100  [cfd, btc, bitcoin, crypto]   \n",
       "1326               [bitcoin, btc]   \n",
       "1411                    [bitcoin]   \n",
       "\n",
       "                                             clean_text  label  \n",
       "479   [someone, bought, tesla, model, today, value, ...      0  \n",
       "880   [new, wallet, designed, easy, possible, use, s...      0  \n",
       "1100  [potentially, profit, bitcoin, without, buying...      0  \n",
       "1326  [btcusd, going, right, anchored, vwap, swing, ...      0  \n",
       "1411  [ha, part, menu, say, corporation, balance, sh...      0  "
      ]
     },
     "execution_count": 267,
     "metadata": {},
     "output_type": "execute_result"
    }
   ],
   "source": [
    "df_pre.head()"
   ]
  },
  {
   "cell_type": "markdown",
   "metadata": {},
   "source": [
    "### Create vocabulary"
   ]
  },
  {
   "cell_type": "markdown",
   "metadata": {},
   "source": [
    "Create vocabulary based on cleaned text and hash tags. "
   ]
  },
  {
   "cell_type": "code",
   "execution_count": 44,
   "metadata": {},
   "outputs": [],
   "source": [
    "text_counter = tag_counter.copy()"
   ]
  },
  {
   "cell_type": "code",
   "execution_count": 45,
   "metadata": {},
   "outputs": [
    {
     "name": "stdout",
     "output_type": "stream",
     "text": [
      "15109\n"
     ]
    }
   ],
   "source": [
    "for text in df_pre[\"clean_text\"]:\n",
    "    for w in text:\n",
    "        text_counter[w] += 1\n",
    "text_counter['<unk>'] = 1\n",
    "text_counter_sorted = sorted(text_counter.items(), key=lambda x: x[1], reverse=True)\n",
    "print(len(text_counter.items()))"
   ]
  },
  {
   "cell_type": "code",
   "execution_count": 46,
   "metadata": {},
   "outputs": [
    {
     "name": "stdout",
     "output_type": "stream",
     "text": [
      "Number of tokens: 15109\n"
     ]
    }
   ],
   "source": [
    "token_ordered_dict = OrderedDict(text_counter_sorted)\n",
    "\n",
    "vocabulary = torchtext.vocab.Vocab(token_ordered_dict, specials=['<unk>'], specials_first=True)\n",
    "#vocabulary.set_default_index(vocabulary['<unk>'])\n",
    "\n",
    "print(\"Number of tokens: {}\".format(len(vocabulary)))"
   ]
  },
  {
   "cell_type": "markdown",
   "metadata": {},
   "source": [
    "### Numericalization"
   ]
  },
  {
   "cell_type": "markdown",
   "metadata": {},
   "source": [
    "Convert text tokens to indices, add padding to provide a constant length for all according to the maximum length."
   ]
  },
  {
   "cell_type": "code",
   "execution_count": 47,
   "metadata": {},
   "outputs": [],
   "source": [
    "def sequence(tokens):\n",
    "    return [vocabulary.__getitem__(t) for t in tokens]"
   ]
  },
  {
   "cell_type": "code",
   "execution_count": 48,
   "metadata": {},
   "outputs": [],
   "source": [
    "df_pre['tag_seq'] = df_pre['hashtags'].apply(sequence)\n",
    "df_pre['text_seq'] = df_pre['clean_text'].apply(sequence)"
   ]
  },
  {
   "cell_type": "code",
   "execution_count": 49,
   "metadata": {},
   "outputs": [],
   "source": [
    "df_pre = df_pre.drop(['hashtags','clean_text'], axis=1)"
   ]
  },
  {
   "cell_type": "code",
   "execution_count": 365,
   "metadata": {},
   "outputs": [
    {
     "data": {
      "text/html": [
       "<div>\n",
       "<style scoped>\n",
       "    .dataframe tbody tr th:only-of-type {\n",
       "        vertical-align: middle;\n",
       "    }\n",
       "\n",
       "    .dataframe tbody tr th {\n",
       "        vertical-align: top;\n",
       "    }\n",
       "\n",
       "    .dataframe thead th {\n",
       "        text-align: right;\n",
       "    }\n",
       "</style>\n",
       "<table border=\"1\" class=\"dataframe\">\n",
       "  <thead>\n",
       "    <tr style=\"text-align: right;\">\n",
       "      <th></th>\n",
       "      <th>user_name</th>\n",
       "      <th>user_followers</th>\n",
       "      <th>user_friends</th>\n",
       "      <th>user_favourites</th>\n",
       "      <th>user_verified</th>\n",
       "      <th>label</th>\n",
       "      <th>tag_seq</th>\n",
       "      <th>text_seq</th>\n",
       "    </tr>\n",
       "  </thead>\n",
       "  <tbody>\n",
       "    <tr>\n",
       "      <th>479</th>\n",
       "      <td>314</td>\n",
       "      <td>179616</td>\n",
       "      <td>697</td>\n",
       "      <td>5035</td>\n",
       "      <td>0</td>\n",
       "      <td>0</td>\n",
       "      <td>[2, 1]</td>\n",
       "      <td>[616, 170, 135, 868, 21, 153, 40, 4625]</td>\n",
       "    </tr>\n",
       "    <tr>\n",
       "      <th>880</th>\n",
       "      <td>141</td>\n",
       "      <td>131970</td>\n",
       "      <td>794</td>\n",
       "      <td>12454</td>\n",
       "      <td>1</td>\n",
       "      <td>0</td>\n",
       "      <td>[8648, 1]</td>\n",
       "      <td>[15, 27, 1834, 646, 513, 145, 225]</td>\n",
       "    </tr>\n",
       "    <tr>\n",
       "      <th>1100</th>\n",
       "      <td>808</td>\n",
       "      <td>216616</td>\n",
       "      <td>145451</td>\n",
       "      <td>79651</td>\n",
       "      <td>0</td>\n",
       "      <td>0</td>\n",
       "      <td>[3907, 2, 1, 3]</td>\n",
       "      <td>[1595, 341, 1, 385, 111, 3907]</td>\n",
       "    </tr>\n",
       "    <tr>\n",
       "      <th>1326</th>\n",
       "      <td>1196</td>\n",
       "      <td>102521</td>\n",
       "      <td>1201</td>\n",
       "      <td>24073</td>\n",
       "      <td>0</td>\n",
       "      <td>0</td>\n",
       "      <td>[1, 2]</td>\n",
       "      <td>[364, 26, 62, 3868, 2964, 2532, 44, 1087, 427,...</td>\n",
       "    </tr>\n",
       "    <tr>\n",
       "      <th>1411</th>\n",
       "      <td>242</td>\n",
       "      <td>3977144</td>\n",
       "      <td>843</td>\n",
       "      <td>612</td>\n",
       "      <td>1</td>\n",
       "      <td>0</td>\n",
       "      <td>[1]</td>\n",
       "      <td>[8, 373, 5508, 49, 1826, 473, 736, 725, 72]</td>\n",
       "    </tr>\n",
       "  </tbody>\n",
       "</table>\n",
       "</div>"
      ],
      "text/plain": [
       "      user_name  user_followers  user_friends  user_favourites  user_verified  \\\n",
       "479         314          179616           697             5035              0   \n",
       "880         141          131970           794            12454              1   \n",
       "1100        808          216616        145451            79651              0   \n",
       "1326       1196          102521          1201            24073              0   \n",
       "1411        242         3977144           843              612              1   \n",
       "\n",
       "      label          tag_seq  \\\n",
       "479       0           [2, 1]   \n",
       "880       0        [8648, 1]   \n",
       "1100      0  [3907, 2, 1, 3]   \n",
       "1326      0           [1, 2]   \n",
       "1411      0              [1]   \n",
       "\n",
       "                                               text_seq  \n",
       "479             [616, 170, 135, 868, 21, 153, 40, 4625]  \n",
       "880                  [15, 27, 1834, 646, 513, 145, 225]  \n",
       "1100                     [1595, 341, 1, 385, 111, 3907]  \n",
       "1326  [364, 26, 62, 3868, 2964, 2532, 44, 1087, 427,...  \n",
       "1411        [8, 373, 5508, 49, 1826, 473, 736, 725, 72]  "
      ]
     },
     "execution_count": 365,
     "metadata": {},
     "output_type": "execute_result"
    }
   ],
   "source": [
    "df_pre.head()"
   ]
  },
  {
   "cell_type": "code",
   "execution_count": 50,
   "metadata": {},
   "outputs": [],
   "source": [
    "def clearTag(tags):\n",
    "    if len(tags) > 10:\n",
    "        return tags[:10]\n",
    "    return tags"
   ]
  },
  {
   "cell_type": "code",
   "execution_count": 51,
   "metadata": {},
   "outputs": [],
   "source": [
    "df_pre['tag_seq'] = df_pre['tag_seq'].apply(clearTag)"
   ]
  },
  {
   "cell_type": "code",
   "execution_count": 58,
   "metadata": {},
   "outputs": [
    {
     "data": {
      "text/plain": [
       "10"
      ]
     },
     "execution_count": 58,
     "metadata": {},
     "output_type": "execute_result"
    }
   ],
   "source": [
    "len(max(df_pre['tag_seq'], key=len))"
   ]
  },
  {
   "cell_type": "code",
   "execution_count": 59,
   "metadata": {},
   "outputs": [
    {
     "data": {
      "text/plain": [
       "34"
      ]
     },
     "execution_count": 59,
     "metadata": {},
     "output_type": "execute_result"
    }
   ],
   "source": [
    "len(max(df_pre['text_seq'], key=len))"
   ]
  },
  {
   "cell_type": "code",
   "execution_count": 52,
   "metadata": {},
   "outputs": [],
   "source": [
    "def padding(ls, min_len):\n",
    "    if len(ls) < min_len:\n",
    "        ls = ls + [0] * max(0, min_len - len(ls))\n",
    "    return ls"
   ]
  },
  {
   "cell_type": "markdown",
   "metadata": {},
   "source": [
    "Create a matrix of tags and tokens."
   ]
  },
  {
   "cell_type": "code",
   "execution_count": 53,
   "metadata": {},
   "outputs": [],
   "source": [
    "df_pre['tag_seq'] = df_pre['tag_seq'].apply(lambda x: padding(x, 10))\n",
    "df_pre['text_seq'] = df_pre['text_seq'].apply(lambda x: padding(x, 34))"
   ]
  },
  {
   "cell_type": "code",
   "execution_count": 54,
   "metadata": {},
   "outputs": [],
   "source": [
    "tag_df = pd.DataFrame([pd.Series(x) for x in df_pre.tag_seq])\n",
    "tag_df.columns = ['tag_{}'.format(x+1) for x in tag_df.columns]\n"
   ]
  },
  {
   "cell_type": "code",
   "execution_count": 390,
   "metadata": {},
   "outputs": [
    {
     "data": {
      "text/html": [
       "<div>\n",
       "<style scoped>\n",
       "    .dataframe tbody tr th:only-of-type {\n",
       "        vertical-align: middle;\n",
       "    }\n",
       "\n",
       "    .dataframe tbody tr th {\n",
       "        vertical-align: top;\n",
       "    }\n",
       "\n",
       "    .dataframe thead th {\n",
       "        text-align: right;\n",
       "    }\n",
       "</style>\n",
       "<table border=\"1\" class=\"dataframe\">\n",
       "  <thead>\n",
       "    <tr style=\"text-align: right;\">\n",
       "      <th></th>\n",
       "      <th>tag_1</th>\n",
       "      <th>tag_2</th>\n",
       "      <th>tag_3</th>\n",
       "      <th>tag_4</th>\n",
       "      <th>tag_5</th>\n",
       "      <th>tag_6</th>\n",
       "      <th>tag_7</th>\n",
       "      <th>tag_8</th>\n",
       "      <th>tag_9</th>\n",
       "      <th>tag_10</th>\n",
       "    </tr>\n",
       "  </thead>\n",
       "  <tbody>\n",
       "    <tr>\n",
       "      <th>0</th>\n",
       "      <td>2</td>\n",
       "      <td>1</td>\n",
       "      <td>0</td>\n",
       "      <td>0</td>\n",
       "      <td>0</td>\n",
       "      <td>0</td>\n",
       "      <td>0</td>\n",
       "      <td>0</td>\n",
       "      <td>0</td>\n",
       "      <td>0</td>\n",
       "    </tr>\n",
       "    <tr>\n",
       "      <th>1</th>\n",
       "      <td>8648</td>\n",
       "      <td>1</td>\n",
       "      <td>0</td>\n",
       "      <td>0</td>\n",
       "      <td>0</td>\n",
       "      <td>0</td>\n",
       "      <td>0</td>\n",
       "      <td>0</td>\n",
       "      <td>0</td>\n",
       "      <td>0</td>\n",
       "    </tr>\n",
       "    <tr>\n",
       "      <th>2</th>\n",
       "      <td>3907</td>\n",
       "      <td>2</td>\n",
       "      <td>1</td>\n",
       "      <td>3</td>\n",
       "      <td>0</td>\n",
       "      <td>0</td>\n",
       "      <td>0</td>\n",
       "      <td>0</td>\n",
       "      <td>0</td>\n",
       "      <td>0</td>\n",
       "    </tr>\n",
       "    <tr>\n",
       "      <th>3</th>\n",
       "      <td>1</td>\n",
       "      <td>2</td>\n",
       "      <td>0</td>\n",
       "      <td>0</td>\n",
       "      <td>0</td>\n",
       "      <td>0</td>\n",
       "      <td>0</td>\n",
       "      <td>0</td>\n",
       "      <td>0</td>\n",
       "      <td>0</td>\n",
       "    </tr>\n",
       "    <tr>\n",
       "      <th>4</th>\n",
       "      <td>1</td>\n",
       "      <td>0</td>\n",
       "      <td>0</td>\n",
       "      <td>0</td>\n",
       "      <td>0</td>\n",
       "      <td>0</td>\n",
       "      <td>0</td>\n",
       "      <td>0</td>\n",
       "      <td>0</td>\n",
       "      <td>0</td>\n",
       "    </tr>\n",
       "  </tbody>\n",
       "</table>\n",
       "</div>"
      ],
      "text/plain": [
       "   tag_1  tag_2  tag_3  tag_4  tag_5  tag_6  tag_7  tag_8  tag_9  tag_10\n",
       "0      2      1      0      0      0      0      0      0      0       0\n",
       "1   8648      1      0      0      0      0      0      0      0       0\n",
       "2   3907      2      1      3      0      0      0      0      0       0\n",
       "3      1      2      0      0      0      0      0      0      0       0\n",
       "4      1      0      0      0      0      0      0      0      0       0"
      ]
     },
     "execution_count": 390,
     "metadata": {},
     "output_type": "execute_result"
    }
   ],
   "source": [
    "tag_df.head()"
   ]
  },
  {
   "cell_type": "code",
   "execution_count": 55,
   "metadata": {},
   "outputs": [],
   "source": [
    "token_df = pd.DataFrame([pd.Series(x) for x in df_pre.text_seq])\n",
    "token_df.columns = ['token_{}'.format(x+1) for x in token_df.columns]"
   ]
  },
  {
   "cell_type": "code",
   "execution_count": 391,
   "metadata": {},
   "outputs": [
    {
     "data": {
      "text/html": [
       "<div>\n",
       "<style scoped>\n",
       "    .dataframe tbody tr th:only-of-type {\n",
       "        vertical-align: middle;\n",
       "    }\n",
       "\n",
       "    .dataframe tbody tr th {\n",
       "        vertical-align: top;\n",
       "    }\n",
       "\n",
       "    .dataframe thead th {\n",
       "        text-align: right;\n",
       "    }\n",
       "</style>\n",
       "<table border=\"1\" class=\"dataframe\">\n",
       "  <thead>\n",
       "    <tr style=\"text-align: right;\">\n",
       "      <th></th>\n",
       "      <th>token_1</th>\n",
       "      <th>token_2</th>\n",
       "      <th>token_3</th>\n",
       "      <th>token_4</th>\n",
       "      <th>token_5</th>\n",
       "      <th>token_6</th>\n",
       "      <th>token_7</th>\n",
       "      <th>token_8</th>\n",
       "      <th>token_9</th>\n",
       "      <th>token_10</th>\n",
       "      <th>...</th>\n",
       "      <th>token_25</th>\n",
       "      <th>token_26</th>\n",
       "      <th>token_27</th>\n",
       "      <th>token_28</th>\n",
       "      <th>token_29</th>\n",
       "      <th>token_30</th>\n",
       "      <th>token_31</th>\n",
       "      <th>token_32</th>\n",
       "      <th>token_33</th>\n",
       "      <th>token_34</th>\n",
       "    </tr>\n",
       "  </thead>\n",
       "  <tbody>\n",
       "    <tr>\n",
       "      <th>0</th>\n",
       "      <td>616</td>\n",
       "      <td>170</td>\n",
       "      <td>135</td>\n",
       "      <td>868</td>\n",
       "      <td>21</td>\n",
       "      <td>153</td>\n",
       "      <td>40</td>\n",
       "      <td>4625</td>\n",
       "      <td>0</td>\n",
       "      <td>0</td>\n",
       "      <td>...</td>\n",
       "      <td>0</td>\n",
       "      <td>0</td>\n",
       "      <td>0</td>\n",
       "      <td>0</td>\n",
       "      <td>0</td>\n",
       "      <td>0</td>\n",
       "      <td>0</td>\n",
       "      <td>0</td>\n",
       "      <td>0</td>\n",
       "      <td>0</td>\n",
       "    </tr>\n",
       "    <tr>\n",
       "      <th>1</th>\n",
       "      <td>15</td>\n",
       "      <td>27</td>\n",
       "      <td>1834</td>\n",
       "      <td>646</td>\n",
       "      <td>513</td>\n",
       "      <td>145</td>\n",
       "      <td>225</td>\n",
       "      <td>0</td>\n",
       "      <td>0</td>\n",
       "      <td>0</td>\n",
       "      <td>...</td>\n",
       "      <td>0</td>\n",
       "      <td>0</td>\n",
       "      <td>0</td>\n",
       "      <td>0</td>\n",
       "      <td>0</td>\n",
       "      <td>0</td>\n",
       "      <td>0</td>\n",
       "      <td>0</td>\n",
       "      <td>0</td>\n",
       "      <td>0</td>\n",
       "    </tr>\n",
       "    <tr>\n",
       "      <th>2</th>\n",
       "      <td>1595</td>\n",
       "      <td>341</td>\n",
       "      <td>1</td>\n",
       "      <td>385</td>\n",
       "      <td>111</td>\n",
       "      <td>3907</td>\n",
       "      <td>0</td>\n",
       "      <td>0</td>\n",
       "      <td>0</td>\n",
       "      <td>0</td>\n",
       "      <td>...</td>\n",
       "      <td>0</td>\n",
       "      <td>0</td>\n",
       "      <td>0</td>\n",
       "      <td>0</td>\n",
       "      <td>0</td>\n",
       "      <td>0</td>\n",
       "      <td>0</td>\n",
       "      <td>0</td>\n",
       "      <td>0</td>\n",
       "      <td>0</td>\n",
       "    </tr>\n",
       "    <tr>\n",
       "      <th>3</th>\n",
       "      <td>364</td>\n",
       "      <td>26</td>\n",
       "      <td>62</td>\n",
       "      <td>3868</td>\n",
       "      <td>2964</td>\n",
       "      <td>2532</td>\n",
       "      <td>44</td>\n",
       "      <td>1087</td>\n",
       "      <td>427</td>\n",
       "      <td>26</td>\n",
       "      <td>...</td>\n",
       "      <td>0</td>\n",
       "      <td>0</td>\n",
       "      <td>0</td>\n",
       "      <td>0</td>\n",
       "      <td>0</td>\n",
       "      <td>0</td>\n",
       "      <td>0</td>\n",
       "      <td>0</td>\n",
       "      <td>0</td>\n",
       "      <td>0</td>\n",
       "    </tr>\n",
       "    <tr>\n",
       "      <th>4</th>\n",
       "      <td>8</td>\n",
       "      <td>373</td>\n",
       "      <td>5508</td>\n",
       "      <td>49</td>\n",
       "      <td>1826</td>\n",
       "      <td>473</td>\n",
       "      <td>736</td>\n",
       "      <td>725</td>\n",
       "      <td>72</td>\n",
       "      <td>0</td>\n",
       "      <td>...</td>\n",
       "      <td>0</td>\n",
       "      <td>0</td>\n",
       "      <td>0</td>\n",
       "      <td>0</td>\n",
       "      <td>0</td>\n",
       "      <td>0</td>\n",
       "      <td>0</td>\n",
       "      <td>0</td>\n",
       "      <td>0</td>\n",
       "      <td>0</td>\n",
       "    </tr>\n",
       "  </tbody>\n",
       "</table>\n",
       "<p>5 rows × 34 columns</p>\n",
       "</div>"
      ],
      "text/plain": [
       "   token_1  token_2  token_3  token_4  token_5  token_6  token_7  token_8  \\\n",
       "0      616      170      135      868       21      153       40     4625   \n",
       "1       15       27     1834      646      513      145      225        0   \n",
       "2     1595      341        1      385      111     3907        0        0   \n",
       "3      364       26       62     3868     2964     2532       44     1087   \n",
       "4        8      373     5508       49     1826      473      736      725   \n",
       "\n",
       "   token_9  token_10  ...  token_25  token_26  token_27  token_28  token_29  \\\n",
       "0        0         0  ...         0         0         0         0         0   \n",
       "1        0         0  ...         0         0         0         0         0   \n",
       "2        0         0  ...         0         0         0         0         0   \n",
       "3      427        26  ...         0         0         0         0         0   \n",
       "4       72         0  ...         0         0         0         0         0   \n",
       "\n",
       "   token_30  token_31  token_32  token_33  token_34  \n",
       "0         0         0         0         0         0  \n",
       "1         0         0         0         0         0  \n",
       "2         0         0         0         0         0  \n",
       "3         0         0         0         0         0  \n",
       "4         0         0         0         0         0  \n",
       "\n",
       "[5 rows x 34 columns]"
      ]
     },
     "execution_count": 391,
     "metadata": {},
     "output_type": "execute_result"
    }
   ],
   "source": [
    "token_df.head()"
   ]
  },
  {
   "cell_type": "code",
   "execution_count": 64,
   "metadata": {},
   "outputs": [
    {
     "data": {
      "text/plain": [
       "(15147, 34)"
      ]
     },
     "execution_count": 64,
     "metadata": {},
     "output_type": "execute_result"
    }
   ],
   "source": [
    "token_df.shape"
   ]
  },
  {
   "cell_type": "code",
   "execution_count": 56,
   "metadata": {},
   "outputs": [],
   "source": [
    "df_pre.reset_index(drop=True, inplace=True)"
   ]
  },
  {
   "cell_type": "markdown",
   "metadata": {},
   "source": [
    "Concat other features to the matrix."
   ]
  },
  {
   "cell_type": "code",
   "execution_count": 57,
   "metadata": {},
   "outputs": [
    {
     "data": {
      "text/plain": [
       "(15147, 49)"
      ]
     },
     "execution_count": 57,
     "metadata": {},
     "output_type": "execute_result"
    }
   ],
   "source": [
    "X = pd.concat([df_pre.user_name, df_pre.user_followers, df_pre.user_friends, df_pre.user_favourites, df_pre.user_verified, tag_df, token_df], axis=1)\n",
    "X.shape"
   ]
  },
  {
   "cell_type": "markdown",
   "metadata": {},
   "source": [
    "Save the processed data and label."
   ]
  },
  {
   "cell_type": "code",
   "execution_count": 67,
   "metadata": {},
   "outputs": [],
   "source": [
    "X.to_csv(\"data.csv\", encoding='utf-8', index=False)"
   ]
  },
  {
   "cell_type": "code",
   "execution_count": 68,
   "metadata": {},
   "outputs": [],
   "source": [
    "df_pre['label'].to_csv(\"label.csv\", encoding='utf-8', index=False)"
   ]
  },
  {
   "cell_type": "markdown",
   "metadata": {},
   "source": [
    "## Train"
   ]
  },
  {
   "cell_type": "code",
   "execution_count": 58,
   "metadata": {},
   "outputs": [
    {
     "data": {
      "text/plain": [
       "device(type='cpu')"
      ]
     },
     "execution_count": 58,
     "metadata": {},
     "output_type": "execute_result"
    }
   ],
   "source": [
    "if torch.cuda.is_available():\n",
    "    device = torch.device(\"cuda\") \n",
    "else:\n",
    "    device = torch.device(\"cpu\")\n",
    "device"
   ]
  },
  {
   "cell_type": "code",
   "execution_count": 8,
   "metadata": {},
   "outputs": [],
   "source": [
    "X = pd.read_csv(\"data.csv\")\n",
    "y = pd.read_csv(\"label.csv\")"
   ]
  },
  {
   "cell_type": "code",
   "execution_count": 9,
   "metadata": {},
   "outputs": [
    {
     "data": {
      "text/plain": [
       "label\n",
       "0        14790\n",
       "2          203\n",
       "1          154\n",
       "dtype: int64"
      ]
     },
     "execution_count": 9,
     "metadata": {},
     "output_type": "execute_result"
    }
   ],
   "source": [
    "y.value_counts()"
   ]
  },
  {
   "cell_type": "markdown",
   "metadata": {},
   "source": [
    "Split the data into train and test(validation) set."
   ]
  },
  {
   "cell_type": "code",
   "execution_count": 10,
   "metadata": {},
   "outputs": [],
   "source": [
    "x_train, x_test, y_train, y_test = train_test_split(X.values, y['label'].values, test_size=0.2, shuffle=True, random_state=0)\n"
   ]
  },
  {
   "cell_type": "code",
   "execution_count": 11,
   "metadata": {},
   "outputs": [],
   "source": [
    "train_loader = DataLoader(list(zip(x_train, y_train)), shuffle=False, batch_size=32)\n",
    "test_loader = DataLoader(list(zip(x_test, y_test)), shuffle=False, batch_size=32)"
   ]
  },
  {
   "cell_type": "markdown",
   "metadata": {},
   "source": [
    "Training and validation functions, with reference to notebooks in class."
   ]
  },
  {
   "cell_type": "code",
   "execution_count": 13,
   "metadata": {},
   "outputs": [],
   "source": [
    "def train_epoch(model, loader, optimizer, criterion):\n",
    "    \n",
    "    # Initialize epoch loss (cummulative loss fo all batchs)\n",
    "    epoch_loss = 0.0\n",
    "\n",
    "    for batch_idx, batch in enumerate(loader):\n",
    "            \n",
    "            # get the batch; batch is a list of [text, label]\n",
    "            X_batch, y_batch = batch   \n",
    "\n",
    "            log_probs = model(X_batch)        \n",
    "\n",
    "            # Calculate loss\n",
    "            loss = criterion(log_probs, y_batch)\n",
    "            \n",
    "            ### Pytorch magic! ###\n",
    "            optimizer.zero_grad()\n",
    "            loss.backward()\n",
    "            optimizer.step()\n",
    "\n",
    "            # Keep track of overall epoch loss\n",
    "            epoch_loss += loss.item()   \n",
    "            \n",
    "    return epoch_loss"
   ]
  },
  {
   "cell_type": "code",
   "execution_count": 14,
   "metadata": {},
   "outputs": [],
   "source": [
    "def plot_confusion_matrix(y_true, y_predict):\n",
    "    confmat = ConfusionMatrix(task='multiclass', num_classes=3).to(device)\n",
    "    matrix = confmat(np.array(y_true), np.array(y_predict)).cpu()\n",
    "\n",
    "    classes = [\"no change\", \"decrease\", \"increase\"]\n",
    "\n",
    "    df_cm = pd.DataFrame(matrix, index = [i for i in classes],\n",
    "                      columns = [i for i in classes])\n",
    "    df_cm = df_cm.astype(float)\n",
    "    plt.figure(figsize = (10,7))\n",
    "    sn.heatmap(df_cm, annot=True)\n",
    "    plt.xlabel('predictions', fontsize =14)\n",
    "    plt.ylabel('ground truth', fontsize =14)\n",
    "    "
   ]
  },
  {
   "cell_type": "code",
   "execution_count": 15,
   "metadata": {},
   "outputs": [],
   "source": [
    "def evaluate(model, loader, plot=False):\n",
    "    \n",
    "    y_true, y_pred = [], []\n",
    "    \n",
    "    for batch_idx, batch in enumerate(loader):\n",
    "            \n",
    "        # get the batch; batch is a list of [text, label]\n",
    "        X_batch, y_batch = batch\n",
    "            \n",
    "        log_probs = model(X_batch)                \n",
    "\n",
    "        y_batch_pred = torch.argmax(log_probs, dim=1)\n",
    "\n",
    "        y_true += list(y_batch.cpu())\n",
    "        y_pred += list(y_batch_pred.cpu())\n",
    "        \n",
    "    if plot:\n",
    "        confusion_matrix = metrics.confusion_matrix(y_true, y_pred)\n",
    "        cm_display = metrics.ConfusionMatrixDisplay(confusion_matrix = confusion_matrix,  display_labels = [\"no change\", \"decrease\", \"increase\"])\n",
    "        cm_display.plot()\n",
    "        plt.show()\n",
    "    return metrics.f1_score(y_true, y_pred, average='micro')"
   ]
  },
  {
   "cell_type": "code",
   "execution_count": 16,
   "metadata": {},
   "outputs": [],
   "source": [
    "def train(model, loader_train, loader_test, optimizer, criterion, num_epochs):\n",
    "    \n",
    "    results = []\n",
    "    \n",
    "    print(\"Total Training Time (total number of epochs: {})\".format(num_epochs))\n",
    "    #for epoch in tqdm(range(1, num_epochs+1)):\n",
    "    for epoch in range(1, num_epochs+1):        \n",
    "        model.train()\n",
    "        epoch_loss = train_epoch(model, loader_train, optimizer, criterion)\n",
    "        model.eval()\n",
    "        acc_train = evaluate(model, loader_train)\n",
    "        plot = False\n",
    "        if epoch == num_epochs:\n",
    "            plot = True\n",
    "        acc_test = evaluate(model, loader_test, plot)\n",
    "\n",
    "        results.append((epoch_loss, acc_train, acc_test))\n",
    "        \n",
    "        #if epoch % 10 == 0:\n",
    "        print(\"[Epoch {}] loss:\\t{:.3f}, f1 train: {:.3f}, f1 test: {:.3f} \".format(epoch, epoch_loss, acc_train, acc_test))\n",
    "            \n",
    "    return results"
   ]
  },
  {
   "cell_type": "markdown",
   "metadata": {},
   "source": [
    "Load pretrained embedding vectors \"English Wikipedia Dump of February 2017\", source http://vectors.nlpl.eu/repository/."
   ]
  },
  {
   "cell_type": "code",
   "execution_count": 59,
   "metadata": {},
   "outputs": [],
   "source": [
    "# embedding vectors file not included in the repo\n",
    "pretrained_vectors = torchtext.vocab.Vectors(\"5/model.txt\")\n",
    "pretrained_embedding = pretrained_vectors.get_vecs_by_tokens(vocabulary.itos)"
   ]
  },
  {
   "cell_type": "markdown",
   "metadata": {},
   "source": [
    "Define the model structure, we put the token matrix to embedding and conv layer, and add the results together with other features to linear layer."
   ]
  },
  {
   "cell_type": "code",
   "execution_count": 60,
   "metadata": {},
   "outputs": [],
   "source": [
    "#Defining the convolutional neural network\n",
    "class CNN(nn.Module):\n",
    "            \n",
    "    def __init__(self, embedding_dim, hidden_size, vocab_size, output_size, feature_size, kernel_sizes=[3,4,5]):\n",
    "        super(CNN, self).__init__()\n",
    "        self.feature_size = feature_size\n",
    "        # 1. embedding layer\n",
    "        self.embedding = nn.Embedding(vocab_size, embedding_dim)\n",
    "        #self.embedding = nn.Embedding.from_pretrained(pretrained_embedding, freeze=True)\n",
    "        \n",
    "        # 2. convolutional layers\n",
    "        \n",
    "        self.conv1 = nn.ModuleList([\n",
    "            nn.Conv2d(1, hidden_size, (k, embedding_dim), padding=(k-2,0)) \n",
    "            for k in kernel_sizes])\n",
    "        #self.conv2 = nn.Conv1d(feature_size, hidden_size, kernel_size=2)\n",
    "        \n",
    "        # 3. final, fully-connected layer for classification\n",
    "        #'''\n",
    "        self.fc = nn.Sequential( nn.Linear(hidden_size*len(kernel_sizes)+feature_size,128),\n",
    "                                nn.BatchNorm1d(128),\n",
    "                                nn.ReLU(),\n",
    "                                nn.Linear(128,64),\n",
    "                                nn.BatchNorm1d(64),\n",
    "                                nn.ReLU(),\n",
    "                                nn.Linear(64,8),\n",
    "                                nn.BatchNorm1d(8),\n",
    "                                nn.ReLU(),\n",
    "                                nn.Linear(8, output_size)) \n",
    "        #'''\n",
    "        \n",
    "        #self.fc = nn.Linear(len(kernel_sizes) * hidden_size, output_size) \n",
    "        \n",
    "        # 4. dropout and sigmoid layers\n",
    "        self.dropout = nn.Dropout(0.5)\n",
    "        self.relu = nn.ReLU()\n",
    "        self.sig = nn.Sigmoid()\n",
    "        \n",
    "    def conv_and_pool(self, x, conv):\n",
    "        # squeeze last dim to get size: (batch_size, num_filters, conv_seq_length)\n",
    "        # conv_seq_length will be ~ 200\n",
    "        x = self.relu(conv(x)).squeeze(3)\n",
    "        \n",
    "        # 1D pool over conv_seq_length\n",
    "        # squeeze to get size: (batch_size, num_filters)\n",
    "        x_max = F.max_pool1d(x, x.size(2)).squeeze(2)\n",
    "        return x_max\n",
    "\n",
    "    def forward(self, x):\n",
    "        #print(x.shape)\n",
    "        f,t = torch.split(x, [self.feature_size, x.shape[1]-self.feature_size], dim=1)\n",
    "        #print(\"1\",f.shape)\n",
    "        #print(\"2\",t.shape)\n",
    "        \n",
    "        # embedded vectors\n",
    "        embeds = self.embedding(t)\n",
    "        #print(embeds.shape)\n",
    "        #x = embeds.permute(0, 2, 1)\n",
    "        embeds = embeds.unsqueeze(1)\n",
    "        \n",
    "        # get output of each conv-pool layer\n",
    "        t_conv = [self.conv_and_pool(embeds, conv) for conv in self.conv1]\n",
    "        \n",
    "        #f = f.permute(1,0).float()\n",
    "        #f_conv2 = [self.relu(self.conv2(f)), self.relu(self.conv3(f))]\n",
    "        #print(f_conv.shape)\n",
    "        \n",
    "        #f = F.max_pool1d(f_conv, f_conv.shape[2])\n",
    "        \n",
    "        # concatenate results and add dropout\n",
    "        t = torch.cat(t_conv, dim=1)\n",
    "        t = self.dropout(t)\n",
    "        #print(\"4\",t.shape)\n",
    "        \n",
    "        x = torch.cat((f.float(),t), dim=1)\n",
    "        #print(\"5\",x.shape)\n",
    "        \n",
    "        # final \n",
    "        output = self.fc(x) \n",
    "        return self.sig(output)"
   ]
  },
  {
   "cell_type": "code",
   "execution_count": 65,
   "metadata": {},
   "outputs": [
    {
     "data": {
      "text/plain": [
       "CNN(\n",
       "  (embedding): Embedding(15109, 300)\n",
       "  (conv1): ModuleList(\n",
       "    (0): Conv2d(1, 64, kernel_size=(3, 300), stride=(1, 1), padding=(1, 0))\n",
       "    (1): Conv2d(1, 64, kernel_size=(4, 300), stride=(1, 1), padding=(2, 0))\n",
       "    (2): Conv2d(1, 64, kernel_size=(5, 300), stride=(1, 1), padding=(3, 0))\n",
       "  )\n",
       "  (fc): Sequential(\n",
       "    (0): Linear(in_features=197, out_features=128, bias=True)\n",
       "    (1): BatchNorm1d(128, eps=1e-05, momentum=0.1, affine=True, track_running_stats=True)\n",
       "    (2): ReLU()\n",
       "    (3): Linear(in_features=128, out_features=64, bias=True)\n",
       "    (4): BatchNorm1d(64, eps=1e-05, momentum=0.1, affine=True, track_running_stats=True)\n",
       "    (5): ReLU()\n",
       "    (6): Linear(in_features=64, out_features=8, bias=True)\n",
       "    (7): BatchNorm1d(8, eps=1e-05, momentum=0.1, affine=True, track_running_stats=True)\n",
       "    (8): ReLU()\n",
       "    (9): Linear(in_features=8, out_features=3, bias=True)\n",
       "  )\n",
       "  (dropout): Dropout(p=0.5, inplace=False)\n",
       "  (relu): ReLU()\n",
       "  (sig): Sigmoid()\n",
       ")"
      ]
     },
     "execution_count": 65,
     "metadata": {},
     "output_type": "execute_result"
    }
   ],
   "source": [
    "cnn = CNN(embedding_dim=300, hidden_size=64, vocab_size=len(vocabulary), output_size=3, feature_size=5)\n",
    "optimizer = optim.Adam(cnn.parameters(), lr=1e-4)\n",
    "# Define loss function\n",
    "#criterion = nn.NLLLoss()\n",
    "# weight_i = total_samples / (num_samples_in_i * output_size)\n",
    "#weights = [0.34, 32.78, 24.87]\n",
    "weights = [0.01, 45, 55]\n",
    "class_weights = torch.FloatTensor(weights)\n",
    "criterion = nn.CrossEntropyLoss(weight=class_weights)\n",
    "cnn.embedding.weight.data = pretrained_embedding\n",
    "cnn.embedding.weight.requires_grad = True\n",
    "cnn.to(device)"
   ]
  },
  {
   "cell_type": "code",
   "execution_count": 66,
   "metadata": {},
   "outputs": [
    {
     "name": "stdout",
     "output_type": "stream",
     "text": [
      "Total Training Time (total number of epochs: 15)\n",
      "[Epoch 1] loss:\t408.468, f1 train: 0.976, f1 test: 0.975 \n",
      "[Epoch 2] loss:\t406.628, f1 train: 0.976, f1 test: 0.975 \n",
      "[Epoch 3] loss:\t405.565, f1 train: 0.977, f1 test: 0.975 \n",
      "[Epoch 4] loss:\t404.567, f1 train: 0.977, f1 test: 0.975 \n",
      "[Epoch 5] loss:\t404.571, f1 train: 0.977, f1 test: 0.975 \n",
      "[Epoch 6] loss:\t402.994, f1 train: 0.977, f1 test: 0.975 \n",
      "[Epoch 7] loss:\t402.161, f1 train: 0.977, f1 test: 0.975 \n",
      "[Epoch 8] loss:\t401.602, f1 train: 0.969, f1 test: 0.967 \n",
      "[Epoch 9] loss:\t400.109, f1 train: 0.977, f1 test: 0.975 \n",
      "[Epoch 10] loss:\t398.370, f1 train: 0.972, f1 test: 0.969 \n",
      "[Epoch 11] loss:\t395.373, f1 train: 0.972, f1 test: 0.969 \n",
      "[Epoch 12] loss:\t391.712, f1 train: 0.977, f1 test: 0.975 \n",
      "[Epoch 13] loss:\t390.352, f1 train: 0.977, f1 test: 0.975 \n",
      "[Epoch 14] loss:\t387.965, f1 train: 0.964, f1 test: 0.961 \n"
     ]
    },
    {
     "data": {
      "image/png": "[encoded data removed]",
      "text/plain": [
       "<Figure size 640x480 with 2 Axes>"
      ]
     },
     "metadata": {},
     "output_type": "display_data"
    },
    {
     "name": "stdout",
     "output_type": "stream",
     "text": [
      "[Epoch 15] loss:\t385.294, f1 train: 0.940, f1 test: 0.933 \n"
     ]
    }
   ],
   "source": [
    "num_epochs = 15\n",
    "new_results = train(cnn, train_loader, test_loader, optimizer, criterion, num_epochs)"
   ]
  },
  {
   "cell_type": "markdown",
   "metadata": {},
   "source": [
    "Overall, the performance is not satisfying. Due to the imbalanced dataset, the model only learns to classify \"no change\". Even after using weighte loss functions, we see more increase in predicting false positive."
   ]
  }
 ],
 "metadata": {
  "kernelspec": {
   "display_name": "Python 3",
   "language": "python",
   "name": "python3"
  },
  "language_info": {
   "codemirror_mode": {
    "name": "ipython",
    "version": 3
   },
   "file_extension": ".py",
   "mimetype": "text/x-python",
   "name": "python",
   "nbconvert_exporter": "python",
   "pygments_lexer": "ipython3",
   "version": "3.10.2"
  },
  "orig_nbformat": 4
 },
 "nbformat": 4,
 "nbformat_minor": 2
}
